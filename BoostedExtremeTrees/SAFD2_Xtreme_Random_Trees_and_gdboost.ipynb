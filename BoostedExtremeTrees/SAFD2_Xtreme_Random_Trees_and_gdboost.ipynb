{
  "nbformat": 4,
  "nbformat_minor": 0,
  "metadata": {
    "colab": {
      "name": "SAFD2_Xtreme_Random_Trees_and_gdboost.ipynb",
      "provenance": [],
      "collapsed_sections": []
    },
    "kernelspec": {
      "display_name": "Python 3",
      "name": "python3"
    }
  },
  "cells": [
    {
      "cell_type": "markdown",
      "metadata": {
        "id": "TdIqLLHvm-eG"
      },
      "source": [
        "#Statistical Analysis of Financial Data - Project Part 2: <br>**Extremely Randomized Forests with Gradient Boosting**\n",
        "# Kushagra Mahajan (170123029)<br> Mihir Yadav (170123034)\n",
        "###Group 3\n",
        "#Disclaimer\n",
        "*The content of this report and the product made is only meant for learning process as part of the course. This is not for use of making publication or making commercialisation without mentor’s consent. My contribution won’t demand any claim in future for further progress of Mentor’s development and innovation along the direction unless there is a special continuous involvement.*\n",
        "\n"
      ]
    },
    {
      "cell_type": "markdown",
      "metadata": {
        "id": "QwfgMcOBw3qA"
      },
      "source": [
        "#Extremely Randomized/Extra Trees Algorithm\n",
        "As part of the project 1 we worked on constructing a decision tree algorithm and then created classical random forests, by introducing variation in the decision trees.\n",
        "\n",
        "We used bootstrapping and and the generic technique of random-subspace projection, which is choosing a random subset of attributes for each tree, to build random decision trees for a forest.\n",
        "\n",
        "Although these significantly randomized the standard tree growing algorithm, they are far from building totally random trees. The very high variance of decision/regression tree splits motivated the use of even higher randomization levels, that could give better performance, both in terms of accuracy and computational efficiency.  \n",
        "\n",
        "For this purpose we look at another tree-ensemble technique which aims at strongly randomizing the individual decision trees. The strength of this randomization can be controlled by the use of a parameter. In extreme cases, totally random trees can be built, with structures independent of the output values of the training samples.\n",
        "\n",
        "##Algorithm description\n",
        "The Extra-trees algorithm builds an ensemble of unpruned decision trees with increased randomization with respect to the trees constructed as part of Project 1. The classical top-down approach is used for construction.\n",
        "\n",
        "To increase the randomization level, at each tree node, a random subset of features is chosen to be split on, and further the cut-point for each split is chosen at random. The split that gives maximum variance reduction at the node is chosen. In the extreme case only one feature is chosen at random and the samples are split at a random cut-point for this feature. This way *Totally Randomized Trees* are built, without taking the target variable of the training samples into account. We introduce a parameter *subset_size_factor* that can control the extent of randomization in trees.\n",
        "\n",
        "This algorithm differs from the previous implementation also with respect to the treatment of training samples. The whole training data available is used instead of a bootstrap replica as in the previous implementation.\n",
        "\n",
        "\n",
        "---\n",
        "---\n",
        "####**Extra-trees splitting algorithm for numerical attributes**\n",
        "---\n",
        "**Split node** (S):<br>\n",
        "  *Input:* The training subset at a tree node with attributes [$a_{1}, a_{2}, a_{3}\\cdots, a_{n}$].<br>\n",
        "  *Output:* A split at this node in the form of *(feature, cut-point)*<br>\n",
        "\n",
        "\n",
        "\n",
        "*   $k$ = subset_size_factor*$n$\n",
        "<br>\n",
        "*   Randomly select $k$ features $[a_{p_{1}},a_{p_{2}}, a_{p_{3}}\\cdots,a_{p_{k}}]$\n",
        "<br>\n",
        "*   Randomly select cut-points $s_{p_{i}}$ for each feature $a_{p_{i}}$ as $s_{p_{i}} = random(minS(a_{p_{i}}), maxS(a_{p_{i}}))$ \n",
        "<br>\n",
        "*   Select the split feature and cut-point as $(a_{p}, s_{p})$ which gives the maximum variance reduction, that is $VarReduction(S, a_{p}, s_{p}) = \\displaystyle\\max_{i=1}^{k}{VarReduction(S, a_{p_{i}}, s_{p_{i}})}$\n",
        "\n",
        "\n",
        "---\n",
        "---\n",
        "<br>\n",
        "The tree is built and nodes split until some stopping criterion is met. For this project we use the $\\mathrm{coefficient\\ of\\ variance}$: \n",
        "<br>\n",
        "$\\mathrm{CoefVar} = \\dfrac{\\mathrm{Standard\\ Deviation}}{\\mathrm{Mean}} = \\dfrac{\\sqrt{\\dfrac{1}{n}\\sum_{j}(y_{j}-\\bar y)^{2}}}{\\bar y}$\n",
        "\n",
        "which is a measure of the variability of data relative to the mean.\n",
        "\n",
        "At every node we calculate this coefficient and if it falls below a certain threshold, $i.e.$ the variability of data has reduced enough, the node is not split any more.\n",
        "\n"
      ]
    },
    {
      "cell_type": "code",
      "metadata": {
        "id": "FV65TamQPGZY"
      },
      "source": [
        "import numpy as np\n",
        "import sklearn.metrics as metrics\n",
        "\n",
        "class TreeNode:\n",
        "    def __init__(self):\n",
        "        self.predicted_value = None\n",
        "        self.decision_feature = None\n",
        "        self.decision_value = None\n",
        "        self.left_node = None\n",
        "        self.right_node = None\n",
        "\n",
        "\n",
        "class DecisionTree:\n",
        "\n",
        "    def __init__(self):\n",
        "        self.root_node = None\n",
        "        self.min_coef_of_var = None\n",
        "        self.subset_size_factor = None\n",
        "        self.reductions = None\n",
        "\n",
        "    def fit(self, X, Y, min_coef_of_var = 0, pruning_factor = 0, subset_size_factor = 1/np.sqrt(len(X_train[0])), extremely_randomized=False):\n",
        "        self.min_coef_of_var = min_coef_of_var\n",
        "        self.subset_size_factor = subset_size_factor\n",
        "        self.extremely_randomized = extremely_randomized  #Prameter that controls whether to create extremely randomized trees.\n",
        "        self.root_node = self.build(X, Y)\n",
        "        self.prune_decision_tree(X, Y, self.root_node, pruning_factor)\n",
        "\n",
        "        self.reductions = np.zeros(len(X[0]))\n",
        "        self.reductions = self.calculate_reductions(X, Y, self.root_node, self.reductions)\n",
        "\n",
        "    def get_decision_value_for_feature(self, X, Y, decision_feature):\n",
        "        \n",
        "        Z = np.empty((0, 2), float)\n",
        "        for i in range(len(Y)):\n",
        "            Z = np.append(Z, [[X[i, decision_feature], Y[i]]], axis = 0)\n",
        "\n",
        "        Z = np.sort(Z, axis = 0)\n",
        "\n",
        "        left_cardinality = 0\n",
        "        right_cardinality = 0\n",
        "        left_sum = 0\n",
        "        right_sum = 0\n",
        "        left_sum_of_squares = 0\n",
        "        right_sum_of_squares = 0\n",
        "\n",
        "        for i in range(len(Z)):\n",
        "            right_cardinality += 1\n",
        "            right_sum += Z[i, 1]\n",
        "            right_sum_of_squares += Z[i, 1] ** 2\n",
        "\n",
        "        current_best_impurity = right_sum_of_squares\n",
        "        current_best_decision_value = Z[0, 0] - 1\n",
        "\n",
        "        for i in range(len(Z)):\n",
        "            left_cardinality += 1\n",
        "            left_sum += Z[i, 1]\n",
        "            left_sum_of_squares += Z[i, 1] ** 2\n",
        "\n",
        "            right_cardinality -= 1\n",
        "            right_sum -= Z[i, 1]\n",
        "            right_sum_of_squares -= Z[i, 1] ** 2\n",
        "\n",
        "            impurity = left_sum_of_squares - left_sum * left_sum / left_cardinality\n",
        "            if (right_cardinality != 0):\n",
        "                impurity += right_sum_of_squares - right_sum * right_sum / right_cardinality\n",
        "            \n",
        "            if (impurity < current_best_impurity):\n",
        "                current_best_impurity = impurity\n",
        "                current_best_decision_value = Z[i, 0]\n",
        "\n",
        "        return current_best_decision_value\n",
        "\n",
        "    def get_impurity(self, X, Y, decision_feature, decision_value_for_feature):\n",
        "        left_cardinality = 0\n",
        "        right_cardinality = 0\n",
        "        left_sum = 0\n",
        "        right_sum = 0\n",
        "\n",
        "        for i in range(len(Y)):\n",
        "            if (X[i, decision_feature] <= decision_value_for_feature):\n",
        "                left_cardinality += 1\n",
        "                left_sum += Y[i]\n",
        "            else:\n",
        "                right_cardinality += 1\n",
        "                right_sum += Y[i]\n",
        "\n",
        "        if (left_cardinality != 0):\n",
        "            left_mean = left_sum / left_cardinality\n",
        "        else:\n",
        "            left_mean = 0\n",
        "\n",
        "        if (right_cardinality != 0):\n",
        "            right_mean = right_sum / right_cardinality\n",
        "        else:\n",
        "            right_mean = 0\n",
        "\n",
        "        impurity = 0\n",
        "        for i in range(len(Y)):\n",
        "            if (X[i, decision_feature] <= decision_value_for_feature):\n",
        "                impurity += (Y[i] - left_mean) ** 2\n",
        "            else:\n",
        "                impurity += (Y[i] - right_mean) ** 2\n",
        "\n",
        "        return impurity\n",
        "\n",
        "    def divide_data(self, X, Y, decision_feature, decision_value):\n",
        "        number_of_features = len(X[0])\n",
        "        X_left = np.empty((0, number_of_features), float)\n",
        "        X_right = np.empty((0, number_of_features), float)\n",
        "        Y_left = np.empty(0, float)\n",
        "        Y_right = np.empty(0, float)\n",
        "\n",
        "        for i in range(len(X)):\n",
        "            if (X[i, decision_feature] <= decision_value):\n",
        "                X_left = np.append(X_left, [X[i]], axis = 0)\n",
        "                Y_left = np.append(Y_left, [Y[i]], axis = 0)\n",
        "            else:\n",
        "                X_right = np.append(X_right, [X[i]], axis = 0)\n",
        "                Y_right = np.append(Y_right, [Y[i]], axis = 0)\n",
        "\n",
        "        return X_left, Y_left, X_right, Y_right\n",
        "\n",
        "    def build(self, X, Y):\n",
        "        if (len(X) == 0):\n",
        "            return\n",
        "\n",
        "        root_node = TreeNode()\n",
        "        node_mean = np.mean(Y)\n",
        "        root_node.predicted_value = node_mean\n",
        "        node_deviation = np.std(Y)\n",
        "\n",
        "        # Do not split\n",
        "        if (node_deviation < self.min_coef_of_var*node_mean):\n",
        "            root_node.decision_value = 0\n",
        "            root_node.decision_feature = 0\n",
        "            return\n",
        "\n",
        "        if (np.amin(Y) == np.amax(Y)):\n",
        "            root_node.decision_value = 0\n",
        "            root_node.decision_feature = 0\n",
        "            return root_node\n",
        "\n",
        "        \n",
        "        current_best_feature = -1\n",
        "        current_best_decision_value = -1\n",
        "        current_best_impurity = -1\n",
        "        number_of_features = len(X[0])\n",
        "        if self.extremely_randomized == True:\n",
        "          features_subset = random.sample(range(number_of_features),int(number_of_features*self.subset_size_factor))\n",
        "        else:\n",
        "          features_subset = range(number_of_features)\n",
        "        ## iterate only on a subset of features and choose the best among them\n",
        "        for i in features_subset:\n",
        "            if self.extremely_randomized == False:\n",
        "              decision_value_for_feature = self.get_decision_value_for_feature(X, Y, i)\n",
        "            else:\n",
        "              decision_value_for_feature = random.sample(list(X[:, i]),1) ## pick a random cut point\n",
        "            impurity_of_decision_value = self.get_impurity(X, Y, i, decision_value_for_feature)\n",
        "\n",
        "            if (current_best_feature == -1 or impurity_of_decision_value < current_best_impurity):\n",
        "                current_best_feature = i\n",
        "                current_best_decision_value = decision_value_for_feature\n",
        "                current_best_impurity = impurity_of_decision_value\n",
        "\n",
        "        root_node.decision_feature = current_best_feature\n",
        "        root_node.decision_value = current_best_decision_value\n",
        "\n",
        "        X_left, Y_left, X_right, Y_right = self.divide_data(X, Y, root_node.decision_feature, root_node.decision_value)\n",
        "\n",
        "        if (len(Y_left) == 0 or len(Y_right) == 0):\n",
        "            return root_node\n",
        "        root_node.left_node = self.build(X_left, Y_left)\n",
        "        root_node.right_node = self.build(X_right, Y_right)\n",
        "        return root_node\n",
        "\n",
        "    def prune_decision_tree(self, X, Y, root_node, pruning_factor):\n",
        "        if (root_node == None):\n",
        "          return 0\n",
        "\n",
        "        X_left, Y_left, X_right, Y_right = self.divide_data(X, Y, root_node.decision_feature, root_node.decision_value)\n",
        "        left_tree_size = self.prune_decision_tree(X_left, Y_left, root_node.left_node, pruning_factor)\n",
        "        right_tree_size = self.prune_decision_tree(X_right, Y_right, root_node.right_node, pruning_factor)\n",
        "        tree_size = 1 + left_tree_size + right_tree_size\n",
        "\n",
        "        impurity = 0\n",
        "        for y in Y:\n",
        "            impurity += (y - root_node.predicted_value) ** 2\n",
        "\n",
        "        divided_impurity = self.get_impurity(X, Y, root_node.decision_feature, root_node.decision_value)\n",
        "\n",
        "        pruning_value = impurity / len(Y) - divided_impurity / len(Y) - pruning_factor * tree_size\n",
        "\n",
        "        if (pruning_value < 0):\n",
        "            root_node.left_node = None\n",
        "            root_node.right_node = None\n",
        "            return 1\n",
        "        else:\n",
        "            return tree_size\n",
        "    \n",
        "    def calculate_reductions(self, X, Y, root_node, reductions):\n",
        "        if (root_node == None):\n",
        "            return reductions\n",
        "\n",
        "        impurity = 0\n",
        "        for y in Y:\n",
        "            impurity += (y - root_node.predicted_value) ** 2\n",
        "\n",
        "        for i in range(len(X[0])):\n",
        "            decision_value_for_feature = self.get_decision_value_for_feature(X, Y, i)\n",
        "            impurity_of_decision_value = self.get_impurity(X, Y, i, decision_value_for_feature)\n",
        "\n",
        "            reductions[i] += impurity - impurity_of_decision_value\n",
        "        \n",
        "        X_left, Y_left, X_right, Y_right = self.divide_data(X, Y, root_node.decision_feature, root_node.decision_value)\n",
        "        reductions = self.calculate_reductions(X_left, Y_left, root_node.left_node, reductions)\n",
        "        reductions = self.calculate_reductions(X_right, Y_right, root_node.right_node, reductions)\n",
        "\n",
        "        return reductions\n",
        "    \n",
        "    def get_reductions(self):\n",
        "        return self.reductions\n",
        "\n",
        "    def predict_single(self, X):\n",
        "        current_node = self.root_node\n",
        "        while (True):\n",
        "            if (X[current_node.decision_feature] <= current_node.decision_value):\n",
        "                if (current_node.left_node != None):\n",
        "                    current_node = current_node.left_node\n",
        "                else:\n",
        "                    return current_node.predicted_value\n",
        "            else:\n",
        "                if (current_node.right_node != None):\n",
        "                    current_node = current_node.right_node\n",
        "                else:\n",
        "                    return current_node.predicted_value\n",
        "\n",
        "    def predict(self, X):\n",
        "        Y = np.empty(0, float)\n",
        "        for x in X:\n",
        "            Y = np.append(Y, [self.predict_single(x)], axis = 0)\n",
        "\n",
        "        return Y\n",
        "\n",
        "decision_tree = DecisionTree()"
      ],
      "execution_count": null,
      "outputs": []
    },
    {
      "cell_type": "markdown",
      "metadata": {
        "id": "TJnQKidglmyF"
      },
      "source": [
        "We will use Boston housing data from ```sklearn.datasets``` for testing our algorithm.\n",
        "\n"
      ]
    },
    {
      "cell_type": "code",
      "metadata": {
        "id": "Z63Hg3prQLZS"
      },
      "source": [
        "from sklearn.datasets import load_boston\n",
        "data = load_boston(return_X_y=False)\n",
        "X = data.data\n",
        "y = data.target\n",
        "from sklearn.model_selection import train_test_split\n",
        "X_train, X_test, y_train, y_test = train_test_split(X, y, test_size = 0.2, random_state = 1)"
      ],
      "execution_count": null,
      "outputs": []
    },
    {
      "cell_type": "markdown",
      "metadata": {
        "id": "hB_S17NXmJco"
      },
      "source": [
        "We fit our decision tree to the training data, and check our performance on the test data.\n",
        "\n",
        "**Note:** Using a single Extra-tree does not make sense because the tree structure is based on random splits, hence we need to make an **ensemble of multiple Extra-trees** as shown later"
      ]
    },
    {
      "cell_type": "code",
      "metadata": {
        "id": "wF9wssGhQTBu",
        "colab": {
          "base_uri": "https://localhost:8080/"
        },
        "outputId": "fad0fc07-783e-4c75-b16c-56bf9a8488d8"
      },
      "source": [
        "import random\n",
        "decision_tree.fit(X_train, y_train, min_coef_of_var = 0.025, pruning_factor = 0, extremely_randomized=True)\n",
        "y_test_pred = decision_tree.predict(X_test)\n",
        "metrics.r2_score(y_test, y_test_pred)"
      ],
      "execution_count": null,
      "outputs": [
        {
          "output_type": "execute_result",
          "data": {
            "text/plain": [
              "0.6517249270248218"
            ]
          },
          "metadata": {
            "tags": []
          },
          "execution_count": 131
        }
      ]
    },
    {
      "cell_type": "markdown",
      "metadata": {
        "id": "4AWbvbVTWBac"
      },
      "source": [
        "For a single tree with randomized splits, as expected the fit is not good"
      ]
    },
    {
      "cell_type": "code",
      "metadata": {
        "colab": {
          "base_uri": "https://localhost:8080/",
          "height": 279
        },
        "id": "Tmpwy6yVVwNk",
        "outputId": "31ad4a4a-8e29-4594-c4ce-f34441189256"
      },
      "source": [
        "import matplotlib.pyplot as plt\n",
        "plt.plot(y_test, y_test, color = \"green\")\n",
        "plt.xlabel(\"actual\")\n",
        "plt.ylabel(\"predicted\")\n",
        "plt.scatter(y_test, y_test_pred)\n",
        "plt.show()"
      ],
      "execution_count": null,
      "outputs": [
        {
          "output_type": "display_data",
          "data": {
            "image/png": "[encoded data removed]",
            "text/plain": [
              "<Figure size 432x288 with 1 Axes>"
            ]
          },
          "metadata": {
            "tags": [],
            "needs_background": "light"
          }
        }
      ]
    },
    {
      "cell_type": "markdown",
      "metadata": {
        "id": "PtTdwSdrm6rZ"
      },
      "source": [
        "#Forest of Extremely randomized trees\n",
        "We now implement an extremely randomized forest as an ensemble of Extra-trees. The rationale behind this approach is that the increased explicit randomization of the attributes and cut-points, when combined with ensemble averaging should be able to reduce variance more strongly than the previously implemented weaker randomization technique. The **results from each extra-tree is averaged** to give the final result.\n",
        "\n",
        "We avoid using bootstrap replicas and intsead go for the full original training sample to minimize the bias. Computationally this implementation is much more efficient than the previous as we no longer need to iterate over all features and explicitly calculate the cut-split value for them."
      ]
    },
    {
      "cell_type": "code",
      "metadata": {
        "id": "UrfUQZX0nm5H"
      },
      "source": [
        "from numpy.random import choice, seed\n",
        "\n",
        "class RandomForest:\n",
        "\n",
        "    trees = []\n",
        "    importance = None\n",
        "\n",
        "    def __init__(self):\n",
        "        self.trees = []\n",
        "\n",
        "    def fit(self, X, y, num_trees = 1, frac_samples = None, frac_attrs = None, bootstrap=False, extremely_randomized=False, subset_size_factor=1/np.sqrt(len(X_train[0]))):\n",
        "        seed(0)\n",
        "        if extremely_randomized and bootstrap:\n",
        "          print('----------------Extremely randomized trees run without bootstrap------------------')\n",
        "          bootstrap = False\n",
        "        N, total_attributes = X.shape \n",
        "        self.importance = np.zeros(total_attributes)\n",
        "\n",
        "        if frac_samples == None:\n",
        "            frac_samples = 1.0\n",
        "\n",
        "        if frac_attrs == None:\n",
        "            frac_attrs = 1.0\n",
        "\n",
        "        for i in range(num_trees):\n",
        "            new_tree = DecisionTree()\n",
        "            sample = choice(range(N), size = int(N * frac_samples), replace=bootstrap)\n",
        "            attrs = choice(range(total_attributes), size = int(total_attributes * frac_attrs), replace=bootstrap)\n",
        "            #print(attrs, end=\", \")\n",
        "            dataset = X[sample, :]   #[:, attrs]\n",
        "            ys = y[sample]\n",
        "            new_tree.fit(dataset, ys, min_coef_of_var = 0.025, pruning_factor = 0, extremely_randomized=extremely_randomized, subset_size_factor=subset_size_factor)\n",
        "\n",
        "            self.importance += new_tree.get_reductions()\n",
        "\n",
        "            self.trees.append((new_tree, attrs))\n",
        "\n",
        "        self.importance /= num_trees\n",
        "\n",
        "    def predict(self, X):\n",
        "        \n",
        "        N, _ = X.shape \n",
        "\n",
        "        answer = np.zeros(N)\n",
        "\n",
        "        for (t, attrs) in self.trees:\n",
        "            answer += t.predict(X) # [:, attrs])\n",
        "        \n",
        "        return answer / len(self.trees)"
      ],
      "execution_count": null,
      "outputs": []
    },
    {
      "cell_type": "code",
      "metadata": {
        "id": "EiZjRa6Htj0k"
      },
      "source": [
        "rf = RandomForest()\n",
        "rf.fit(X_train, y_train, num_trees = 100, frac_samples = 1, frac_attrs = 1.0, bootstrap=False, extremely_randomized=True, subset_size_factor=0.7)"
      ],
      "execution_count": null,
      "outputs": []
    },
    {
      "cell_type": "markdown",
      "metadata": {
        "id": "Lz4sagAe7g69"
      },
      "source": [
        "And then we test it on our test-data."
      ]
    },
    {
      "cell_type": "code",
      "metadata": {
        "id": "thF_c4Uetrsj",
        "colab": {
          "base_uri": "https://localhost:8080/"
        },
        "outputId": "b042e453-3570-480a-8cab-ae7a60fe1b44"
      },
      "source": [
        "y_test_rf = rf.predict(X_test)\n",
        "y_test_rf\n",
        "metrics.r2_score(y_test, y_test_rf)"
      ],
      "execution_count": null,
      "outputs": [
        {
          "output_type": "execute_result",
          "data": {
            "text/plain": [
              "0.8806300218572577"
            ]
          },
          "metadata": {
            "tags": []
          },
          "execution_count": 134
        }
      ]
    },
    {
      "cell_type": "markdown",
      "metadata": {
        "id": "lvMNQZzf7l6-"
      },
      "source": [
        "We also calculate the results using sklearn's RandomForestRegressor for comparison"
      ]
    },
    {
      "cell_type": "code",
      "metadata": {
        "id": "3o_jN3MpuEc4",
        "colab": {
          "base_uri": "https://localhost:8080/"
        },
        "outputId": "5fc633cc-921e-4d14-820f-f3959610d6c1"
      },
      "source": [
        "from sklearn.ensemble import RandomForestRegressor\n",
        "rfsk = RandomForestRegressor(bootstrap=True)\n",
        "rfsk.fit(X_train, y_train)"
      ],
      "execution_count": null,
      "outputs": [
        {
          "output_type": "execute_result",
          "data": {
            "text/plain": [
              "RandomForestRegressor(bootstrap=True, ccp_alpha=0.0, criterion='mse',\n",
              "                      max_depth=None, max_features='auto', max_leaf_nodes=None,\n",
              "                      max_samples=None, min_impurity_decrease=0.0,\n",
              "                      min_impurity_split=None, min_samples_leaf=1,\n",
              "                      min_samples_split=2, min_weight_fraction_leaf=0.0,\n",
              "                      n_estimators=100, n_jobs=None, oob_score=False,\n",
              "                      random_state=None, verbose=0, warm_start=False)"
            ]
          },
          "metadata": {
            "tags": []
          },
          "execution_count": 90
        }
      ]
    },
    {
      "cell_type": "code",
      "metadata": {
        "id": "YADeDtpRwzKT",
        "colab": {
          "base_uri": "https://localhost:8080/"
        },
        "outputId": "78414c7b-7a9a-4690-968b-35490e6a785d"
      },
      "source": [
        "y_test_rfsk = rfsk.predict(X_test)\n",
        "metrics.r2_score(y_test, y_test_rfsk)"
      ],
      "execution_count": null,
      "outputs": [
        {
          "output_type": "execute_result",
          "data": {
            "text/plain": [
              "0.905033102965088"
            ]
          },
          "metadata": {
            "tags": []
          },
          "execution_count": 91
        }
      ]
    },
    {
      "cell_type": "markdown",
      "metadata": {
        "id": "d2-61CTh76uO"
      },
      "source": [
        "We see that scikit-learn manages an accuracy of ~90%. Our ~88% is quite comparable, given that our implementation is very bare-bones, and mostly proof-of-concept.\n",
        "\n",
        "Finally, we plot our predictions as opposed to the ground truth (x = y). "
      ]
    },
    {
      "cell_type": "code",
      "metadata": {
        "id": "kQ42jxDD3dLR",
        "colab": {
          "base_uri": "https://localhost:8080/",
          "height": 279
        },
        "outputId": "c73ea226-fd9a-4e2a-ba5d-eddc9d07e5ae"
      },
      "source": [
        "import matplotlib.pyplot as plt\n",
        "plt.plot(y_test, y_test, color = \"green\")\n",
        "plt.xlabel(\"actual\")\n",
        "plt.ylabel(\"predicted\")\n",
        "plt.scatter(y_test, y_test_rf)\n",
        "plt.show()"
      ],
      "execution_count": 190,
      "outputs": [
        {
          "output_type": "display_data",
          "data": {
            "image/png": "[encoded data removed]",
            "text/plain": [
              "<Figure size 432x288 with 1 Axes>"
            ]
          },
          "metadata": {
            "tags": [],
            "needs_background": "light"
          }
        }
      ]
    },
    {
      "cell_type": "markdown",
      "metadata": {
        "id": "CFzloE7U8W4J"
      },
      "source": [
        "We see that a large chunk of the predicted points is really close to the ground truths. This is because of the averaging step in the Random Forests, and contributes immensely to the accuracy.\n",
        "\n",
        "## Variable Importance\n",
        "\n",
        "Now we take a look at the importance of variables. For this purpose, we compute the following quantity for each tree $T$ in the ensemble:\n",
        "\n",
        "$\\mathrm{VarReduction}_i = \\sum_{x \\in T} \\mathrm{Optimal\\ Variance\\ Reduction\\ in\\ node\\ } x \\mathrm{\\ by\\ attribute\\ } i$\n",
        "\n",
        "and then denote \n",
        "\n",
        "$\\mathrm{Importance}_i = \\mathrm{Average\\ of\\ VarReduction}_i$\n",
        "\n",
        "This quantity will be the importance of attribute $i$. We plot these quantities in a relative sense.\n"
      ]
    },
    {
      "cell_type": "code",
      "metadata": {
        "id": "QxnUDubGHjQx",
        "colab": {
          "base_uri": "https://localhost:8080/",
          "height": 338
        },
        "outputId": "e2056345-5247-4886-d551-96c6611153d0"
      },
      "source": [
        "importance = rf.importance\n",
        "relative_importance = importance / np.sum(importance)\n",
        "fig = plt.figure()\n",
        "ax = fig.add_axes([0,0,1,1])\n",
        "ax.bar(data.feature_names, relative_importance)\n",
        "plt.ylabel('Relative Importance')\n",
        "plt.show()"
      ],
      "execution_count": null,
      "outputs": [
        {
          "output_type": "display_data",
          "data": {
            "image/png": "[encoded data removed]",
            "text/plain": [
              "<Figure size 432x288 with 1 Axes>"
            ]
          },
          "metadata": {
            "tags": [],
            "needs_background": "light"
          }
        }
      ]
    },
    {
      "cell_type": "markdown",
      "metadata": {
        "id": "qKCn5GQgQ_3b"
      },
      "source": [
        "The following are the meanings of the attributes:\n",
        "\n",
        "    CRIM - per capita crime rate by town\n",
        "    ZN - proportion of residential land zoned for lots over 25,000 sq.ft.\n",
        "    INDUS - proportion of non-retail business acres per town.\n",
        "    CHAS - Charles River dummy variable (1 if tract bounds river; 0 otherwise)\n",
        "    NOX - nitric oxides concentration (parts per 10 million)\n",
        "    RM - average number of rooms per dwelling\n",
        "    AGE - proportion of owner-occupied units built prior to 1940\n",
        "    DIS - weighted distances to five Boston employment centres\n",
        "    RAD - index of accessibility to radial highways\n",
        "    TAX - full-value property-tax rate per $10,000\n",
        "    PTRATIO - pupil-teacher ratio by town\n",
        "    B - 1000(Bk - 0.63)^2 where Bk is the proportion of blacks by town\n",
        "    LSTAT - % lower status of the population\n",
        "    MEDV - Median value of owner-occupied homes in $1000's\n",
        "\n",
        "\n",
        "So we can see that the most important attribute is RM, which is the average number of rooms. This makes sense, because the number of rooms is an important factor. The 2nd most important factor is LSTAT, which is the percentage of the population which is of lower status. This can be interpreted to mean that the price is lower in underdeveloped regions. And the 3rd most important factor is crime rate (CRIM), which too makes a lot of sense. On the other end, the CHAS variable is about the Charles River. It doesn't make too much of an impact on the price."
      ]
    },
    {
      "cell_type": "markdown",
      "metadata": {
        "id": "DSdyf2pqbi3V"
      },
      "source": [
        "#Results comparison with alternative approaches\n",
        "Finally we run different instances of our model wit slightly differences to compare the performance."
      ]
    },
    {
      "cell_type": "code",
      "metadata": {
        "id": "WVEa-CYwdMSN"
      },
      "source": [
        "import time"
      ],
      "execution_count": null,
      "outputs": []
    },
    {
      "cell_type": "markdown",
      "metadata": {
        "id": "zq5to6-Ab-yT"
      },
      "source": [
        "##Implementation in Project 1: Without extra-trees\n",
        "We use the bootstrapping technique while training to generate randomized trees"
      ]
    },
    {
      "cell_type": "code",
      "metadata": {
        "id": "7PgMAamUQKn4",
        "colab": {
          "base_uri": "https://localhost:8080/"
        },
        "outputId": "532957e3-0ce1-443e-9489-dcef54422358"
      },
      "source": [
        "start_time = time.time()\n",
        "rf = RandomForest()\n",
        "rf.fit(X_train, y_train, num_trees = 100, frac_samples = 1, frac_attrs = 1.0, bootstrap=True, extremely_randomized=False, subset_size_factor=0.45)\n",
        "y_test_rf = rf.predict(X_test)\n",
        "y_test_rf\n",
        "print('R2 Score: ', metrics.r2_score(y_test, y_test_rf))\n",
        "print('Time taken to run: ', time.time()-start_time)"
      ],
      "execution_count": null,
      "outputs": [
        {
          "output_type": "stream",
          "text": [
            "R2 Score:  0.8576024032476958\n",
            "Time taken to run:  145.09849524497986\n"
          ],
          "name": "stdout"
        }
      ]
    },
    {
      "cell_type": "markdown",
      "metadata": {
        "id": "KK2bgfVYcRZE"
      },
      "source": [
        "We use the implementation in project 1 with bootstrapping combined with taking a fraction of features to grow more randomized individual tree."
      ]
    },
    {
      "cell_type": "code",
      "metadata": {
        "colab": {
          "base_uri": "https://localhost:8080/"
        },
        "id": "D0zW3f04e6Ms",
        "outputId": "bf2c7d0f-1e98-40de-abdf-705f3535d44b"
      },
      "source": [
        "start_time = time.time()\n",
        "rf = RandomForest()\n",
        "rf.fit(X_train, y_train, num_trees = 100, frac_samples = 1, frac_attrs = 0.7, bootstrap=True, extremely_randomized=False, subset_size_factor=0.45)\n",
        "y_test_rf = rf.predict(X_test)\n",
        "y_test_rf\n",
        "print('R2 Score: ', metrics.r2_score(y_test, y_test_rf))\n",
        "print('Time taken to run: ', time.time()-start_time)"
      ],
      "execution_count": null,
      "outputs": [
        {
          "output_type": "stream",
          "text": [
            "R2 Score:  0.8656771069680278\n",
            "Time taken to run:  138.87495183944702\n"
          ],
          "name": "stdout"
        }
      ]
    },
    {
      "cell_type": "code",
      "metadata": {
        "colab": {
          "base_uri": "https://localhost:8080/"
        },
        "id": "D76ExX9ujT6e",
        "outputId": "63107e2a-85f4-4fe2-a321-f86161e54cbf"
      },
      "source": [
        "start_time = time.time()\n",
        "rf = RandomForest()\n",
        "rf.fit(X_train, y_train, num_trees = 50, frac_samples = 1, frac_attrs = 0.7, bootstrap=True, extremely_randomized=False, subset_size_factor=0.45)\n",
        "y_test_rf = rf.predict(X_test)\n",
        "y_test_rf\n",
        "print('R2 Score: ', metrics.r2_score(y_test, y_test_rf))\n",
        "print('Time taken to run: ', time.time()-start_time)"
      ],
      "execution_count": null,
      "outputs": [
        {
          "output_type": "stream",
          "text": [
            "R2 Score:  0.8710594342964576\n",
            "Time taken to run:  71.20021986961365\n"
          ],
          "name": "stdout"
        }
      ]
    },
    {
      "cell_type": "markdown",
      "metadata": {
        "id": "Pfe4ZU6sewxl"
      },
      "source": [
        "##New implementation: Using Extremely randomized/Extra trees\n",
        "We run the model multiple times with different set parameters."
      ]
    },
    {
      "cell_type": "code",
      "metadata": {
        "colab": {
          "base_uri": "https://localhost:8080/"
        },
        "id": "SjejqWqRb4f5",
        "outputId": "030fa636-1e57-4715-adf9-5cf1366a8965"
      },
      "source": [
        "start_time = time.time()\n",
        "rf = RandomForest()\n",
        "rf.fit(X_train, y_train, num_trees = 100, frac_samples = 1, frac_attrs = 1.0, bootstrap=False, extremely_randomized=True, subset_size_factor=0.45)\n",
        "y_test_rf = rf.predict(X_test)\n",
        "y_test_rf\n",
        "print('R2 Score: ', metrics.r2_score(y_test, y_test_rf))\n",
        "print('Time taken to run: ', time.time()-start_time)"
      ],
      "execution_count": null,
      "outputs": [
        {
          "output_type": "stream",
          "text": [
            "R2 Score:  0.867215782842968\n",
            "Time taken to run:  109.24748802185059\n"
          ],
          "name": "stdout"
        }
      ]
    },
    {
      "cell_type": "code",
      "metadata": {
        "colab": {
          "base_uri": "https://localhost:8080/"
        },
        "id": "IC97COcCf9gH",
        "outputId": "7cdcda93-e506-41bf-bc0a-3f1d1cdd51e1"
      },
      "source": [
        "start_time = time.time()\n",
        "rf = RandomForest()\n",
        "rf.fit(X_train, y_train, num_trees = 100, frac_samples = 1, frac_attrs = 1.0, bootstrap=False, extremely_randomized=True, subset_size_factor=0.3)\n",
        "y_test_rf = rf.predict(X_test)\n",
        "y_test_rf\n",
        "print('R2 Score: ', metrics.r2_score(y_test, y_test_rf))\n",
        "print('Time taken to run: ', time.time()-start_time)"
      ],
      "execution_count": null,
      "outputs": [
        {
          "output_type": "stream",
          "text": [
            "R2 Score:  0.8344705204000646\n",
            "Time taken to run:  100.29421710968018\n"
          ],
          "name": "stdout"
        }
      ]
    },
    {
      "cell_type": "code",
      "metadata": {
        "colab": {
          "base_uri": "https://localhost:8080/"
        },
        "id": "iNRNuoZ1hKnB",
        "outputId": "1d42c96e-e4a7-4308-dee6-8517201857b7"
      },
      "source": [
        "start_time = time.time()\n",
        "rf = RandomForest()\n",
        "rf.fit(X_train, y_train, num_trees = 100, frac_samples = 1, frac_attrs = 1.0, bootstrap=False, extremely_randomized=True, subset_size_factor=0.7)\n",
        "y_test_rf = rf.predict(X_test)\n",
        "y_test_rf\n",
        "print('R2 Score: ', metrics.r2_score(y_test, y_test_rf))\n",
        "print('Time taken to run: ', time.time()-start_time)"
      ],
      "execution_count": null,
      "outputs": [
        {
          "output_type": "stream",
          "text": [
            "R2 Score:  0.8844838534245865\n",
            "Time taken to run:  118.73557686805725\n"
          ],
          "name": "stdout"
        }
      ]
    },
    {
      "cell_type": "code",
      "metadata": {
        "colab": {
          "base_uri": "https://localhost:8080/"
        },
        "id": "h7VBj_oxhpw7",
        "outputId": "f206ef90-6298-4b73-8d8c-f07535f228b9"
      },
      "source": [
        "start_time = time.time()\n",
        "rf = RandomForest()\n",
        "rf.fit(X_train, y_train, num_trees = 50, frac_samples = 1, frac_attrs = 1.0, bootstrap=False, extremely_randomized=True, subset_size_factor=0.7)\n",
        "y_test_rf = rf.predict(X_test)\n",
        "y_test_rf\n",
        "print('R2 Score: ', metrics.r2_score(y_test, y_test_rf))\n",
        "print('Time taken to run: ', time.time()-start_time)"
      ],
      "execution_count": 189,
      "outputs": [
        {
          "output_type": "stream",
          "text": [
            "R2 Score:  0.8840748920459595\n",
            "Time taken to run:  59.73833417892456\n"
          ],
          "name": "stdout"
        }
      ]
    },
    {
      "cell_type": "markdown",
      "metadata": {
        "id": "VqTYacYwkFhv"
      },
      "source": [
        "#Conclusion: Extremely Randomized Trees\n",
        "We make the following observations from above experiments:\n",
        "\n",
        "\n",
        "*   Using extremely-randomized trees gives an **increase of about $1\\%$** as compared to the classical radom forests. \n",
        "*   The Extremely randomized approach is **computationally much more efficient**.\n",
        "*   We observe that there is a significant difference in the computational efficiency even for the small dataset that we have used. For a dataset with larger number of training samples and attribute space this difference will increase further. \n",
        "*   The ensemble method performance is optimized even with upto just 50 trees..\n",
        "\n",
        "*   Our Extremely randomized model with the parameters achived a $R2score$ of $88.4\\%$ which comes very close to the $90\\%$ score optimized random forest implementation of *sci-kit learn*.\n",
        "\n",
        "\n",
        "\n",
        "\n",
        "\n",
        "\n",
        "\n",
        "\n"
      ]
    },
    {
      "cell_type": "markdown",
      "metadata": {
        "id": "iIeBTNSaC1bw"
      },
      "source": [
        "#Gradient boosting with Extra-trees\n",
        "\n",
        "Finally we went a step further and implement a basic gradient boosting model on top of our extremely randomized tree ensemble, by calculating the residuals iteratively for the train data and predicting them for the test data to improve the prediction.\n",
        "##Motivation\n",
        "We can think of the residual errors in predictions as mistakes made by our model, and argue that if we can manage to identify some underlying pattern in these residuals we can leverage them to fit our model.\n",
        "\n",
        "The intuition behind the gradient boosting algorithm is to repetitively leverage the patterns in residuals and strengthen a model with weak predictions and make it better. This is done until there is no more underlying pattern in the residuals left. This when the model starts overfitting.\n",
        "\n",
        "So, we are basically updating the predictions such that the sum of our residuals is close to 0 (or minimum) and predicted values are sufficiently close to actual values.\n",
        "\n",
        "##Algorithm:\n",
        "**Step 1:** Fit an Extra-trees random forest model on the data **[call x as input and y as output]**\n",
        "\n",
        "**Step 2:**  Calculate error residuals. Actual target value, minus predicted target value **[e1 = y - y_predicted1 ]**\n",
        "\n",
        "**Step 3:** Fit a new model on error residuals as target variable with same input variables **[call it e1_predicted]**\n",
        "\n",
        "**Step 4:** Add the predicted residuals to the previous predictions\n",
        "**[y_predicted2 = y_predicted1 + e1_predicted]**\n",
        "\n",
        "**Step 5:** Fit another model on residuals that is still left. i.e. **[e2 = y - y_predicted2]**.\n",
        "\n",
        "**Step 6:** Repeat steps 2 to 5 until it starts overfitting or the sum of residuals become constant."
      ]
    },
    {
      "cell_type": "code",
      "metadata": {
        "colab": {
          "base_uri": "https://localhost:8080/"
        },
        "id": "Fdy2WcJQ2Tlr",
        "outputId": "c884c5c4-6abb-4083-fd32-137e4d0ef22b"
      },
      "source": [
        "y_test_gdboost = np.zeros(len(X_test))\n",
        "yi = y_train\n",
        "y_trainitr = np.zeros(len(X_train))\n",
        "for i in range(10):\n",
        "  rf = RandomForest()\n",
        "  rf.fit(X_train, yi, num_trees = 50, frac_samples = 1, frac_attrs = 1.0, bootstrap=False, extremely_randomized=True, subset_size_factor=0.7)\n",
        "  y_train_pred = rf.predict(X_train)\n",
        "  y_trainitr = (y_train_pred+y_trainitr)\n",
        "  ei = y_train-y_trainitr\n",
        "  yi = ei\n",
        "  y_test_rf = rf.predict(X_test)\n",
        "  y_test_gdboost = y_test_gdboost+y_test_rf\n",
        "  print('R2 Score: ', metrics.r2_score(y_test, y_test_gdboost))"
      ],
      "execution_count": null,
      "outputs": [
        {
          "output_type": "stream",
          "text": [
            "R2 Score:  0.8792648053773047\n",
            "R2 Score:  0.9126120034127414\n",
            "R2 Score:  0.915400766048155\n",
            "R2 Score:  0.9161994536926458\n",
            "R2 Score:  0.9163723129320461\n",
            "R2 Score:  0.9165339342702448\n",
            "R2 Score:  0.9165594232088617\n",
            "R2 Score:  0.9165843951182511\n",
            "R2 Score:  0.9165914215879555\n",
            "R2 Score:  0.9166063489197488\n"
          ],
          "name": "stdout"
        }
      ]
    },
    {
      "cell_type": "markdown",
      "metadata": {
        "id": "uNIMtYgrM-AH"
      },
      "source": [
        "We can observe from the plot below and comppare it with the one above to see that the points end up bein closer the actual vvalues because the model has not leverage some underlying pattern within some data-points."
      ]
    },
    {
      "cell_type": "code",
      "metadata": {
        "colab": {
          "base_uri": "https://localhost:8080/",
          "height": 279
        },
        "id": "zIg1zMbPMH1z",
        "outputId": "0b002374-93a8-4d36-c6d2-d1c589b8a72d"
      },
      "source": [
        "import matplotlib.pyplot as plt\n",
        "plt.plot(y_test, y_test, color = \"green\")\n",
        "plt.xlabel(\"actual\")\n",
        "plt.ylabel(\"predicted\")\n",
        "plt.scatter(y_test, y_test_gdboost)\n",
        "plt.show()"
      ],
      "execution_count": 186,
      "outputs": [
        {
          "output_type": "display_data",
          "data": {
            "image/png": "[encoded data removed]",
            "text/plain": [
              "<Figure size 432x288 with 1 Axes>"
            ]
          },
          "metadata": {
            "tags": [],
            "needs_background": "light"
          }
        }
      ]
    },
    {
      "cell_type": "markdown",
      "metadata": {
        "id": "TQdvetaDG67S"
      },
      "source": [
        "#Conclusion: Gradient Boosting\n",
        "\n",
        "*   We see a clear increase in the performance in terms of $R2$ score.\n",
        "*   Any underlying patterns in the residuals appear to have been completely removed after just about 6 iterations.\n",
        "*   We outperform the *sci-kit learn* random forest algorithm by about $2\\%$ with our very basic non-optimized implementation.\n",
        "*   Gradient boosting thus proves to be a very interesting technique that gives us a clear increase in performance with a relatively small code, beating all our previous implementations with an $R2$ score of $91.66\\%$."
      ]
    },
    {
      "cell_type": "markdown",
      "metadata": {
        "id": "c-tBAQzLG1Ux"
      },
      "source": [
        "#References:\n",
        "\n",
        "\n",
        "* https://towardsdatascience.com/an-intuitive-explanation-of-random-forest-and-extra-trees-classifiers-8507ac21d54b\n",
        "* https://link.springer.com/article/10.1007/s10994-006-6226-1\n",
        "* https://en.wikipedia.org/wiki/Gradient_boosting"
      ]
    }
  ]
}