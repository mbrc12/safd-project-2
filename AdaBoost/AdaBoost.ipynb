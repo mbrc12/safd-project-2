{
  "nbformat": 4,
  "nbformat_minor": 0,
  "metadata": {
    "colab": {
      "name": "AdaBoost.ipynb",
      "provenance": [],
      "collapsed_sections": []
    },
    "kernelspec": {
      "name": "python3",
      "display_name": "Python 3"
    }
  },
  "cells": [
    {
      "cell_type": "markdown",
      "metadata": {
        "id": "Ny2nEnJGTgcQ"
      },
      "source": [
        "#**Statistical Analysis Of Financial Data - Project Part 2**\n",
        "#AdaBoost.RT: a Boosting Algorithm for Regression Problems\n",
        "\n",
        "##Group 3: Ashish Agarwal (170123011) and Bagel Satej Babanrao (170123013)\n",
        "\n"
      ]
    },
    {
      "cell_type": "markdown",
      "metadata": {
        "id": "IttjH6U7UybL"
      },
      "source": [
        "**Disclaimer**: *The content of this report and the product made is only meant for learning process as part of the course. This is not for use of making publication or making commercialisation without mentor’s consent. My contribution won’t demand any claim in future for further progress of Mentor’s development and innovation along the direction unless there is a special continuous involvement.*\n",
        "\n"
      ]
    },
    {
      "cell_type": "markdown",
      "metadata": {
        "id": "BU83bgdAVj_Y"
      },
      "source": [
        "We use the decision tree algorithm implemented in the first part of the project as a blackbox and implement AdaBoost.RT: a Boosting Algorithm for Regression Problems. "
      ]
    },
    {
      "cell_type": "markdown",
      "metadata": {
        "id": "YjYYuTPcZGZQ"
      },
      "source": [
        "##The Algorithm\n",
        "\n",
        "\n",
        "1. Input    \n",
        "\n",
        "* Sequence of $n$ examples $(x_1, y_1), (x_2, y_2),..., (x_n, y_n)$ where $y \\in R$.\n",
        "* Weak learning algorithm _Weak Learner_ (Decision tree algorithm in our case)\n",
        "* Integer **T** specifying number of iterations\n",
        "* Threshold $\\phi$ for demacrating correct and incorrect predictions for AdaBoost.RT    \n",
        "\n",
        "2. Initialize\n",
        "\n",
        "* Machine number or iteration $t = 1$\n",
        "* Distribution $D_t(i) = 1 / m$ for all $i$\n",
        "\n",
        "3. Iterate While $t \\leq T$\n",
        "\n",
        "* Call _Weak Learner_, providing it with distribution $D_t$\n",
        "* Build the regressor model: $f_t(x) \\xrightarrow{} y$\n",
        "* Calculate the error rate of $f_t(x)$: \n",
        "$\\epsilon_t = \\sum_{i: \\left| \\frac{f_t(x_i) - y_i}{y_i}\\right| > \\phi} D_t(i)$\n",
        "\n",
        "* Set $\\beta_t = \\epsilon_t / (1 - \\epsilon_t)$\n",
        "* Update distribution $D_t$ as\n",
        "$D_{t+1}(i) = \\frac{D_t(i)}{Z_t} \\times \\begin{cases} \\beta_t & \\text{if} \\enspace \\left| \\frac{f_t(x_i) - y_i}{y_i}\\right| \\leq \\phi \\\\ 1 & \\text{otherwise} \\end{cases}$ where $Z_t$ is a normalization factor chosen such that $D_{t+1}$ will be a distribution.\n",
        "* Set $t = t + 1$\n",
        "\n",
        "4. Output the final hypothesis:\n",
        "\n",
        "* $f_{fin}(x) = \\frac{\\sum_t log(1 / \\beta_t) f_t(x)}{ \\sum_t log(1 / \\beta_t)}$\n",
        "\n",
        "\n",
        "\n",
        "\n",
        "\n"
      ]
    },
    {
      "cell_type": "markdown",
      "metadata": {
        "id": "uaF39Fq8mcwr"
      },
      "source": [
        "##Main Idea\n",
        "* $\\epsilon_t$ is computed using the notion of a pre-set threshold $\\phi$, which is used to demarcate prediction error as correct or incorrect. If the absolute relative error (ARE) for any particular example is greater than $\\phi$, the predicted value for this example is considered to be incorrect, otherwise it is correct. The numbers of correct and incorrect predictions are counted to calculate $\\epsilon_t$.\n",
        "* To compute the distribution for the next machine, we\n",
        "multiply the weight of each example by $\\beta_t$ if the previous machine classifies or predicts this example correctly (this reduces lhe weight of the example), and otherwise the weight remains unchanged. Thus it seems that the regression problem in AdaBoost.RT is projected into the binary classification problems while updating the weights of the examples. "
      ]
    },
    {
      "cell_type": "markdown",
      "metadata": {
        "id": "W8QL6wObsPb9"
      },
      "source": [
        "###References\n",
        "Link: https://ieeexplore.ieee.org/document/1380102"
      ]
    },
    {
      "cell_type": "markdown",
      "metadata": {
        "id": "IwRcPVOVpZd1"
      },
      "source": [
        "##The Decision Tree Algorithm"
      ]
    },
    {
      "cell_type": "code",
      "metadata": {
        "id": "GiCATaKeg04R"
      },
      "source": [
        "import numpy as np\n",
        "import sklearn.metrics as metrics\n",
        "\n",
        "class TreeNode:\n",
        "    def __init__(self):\n",
        "        self.predicted_value = None\n",
        "        self.decision_feature = None\n",
        "        self.decision_value = None\n",
        "        self.left_node = None\n",
        "        self.right_node = None\n",
        "\n",
        "class DecisionTree:\n",
        "\n",
        "    def __init__(self):\n",
        "        self.root_node = None\n",
        "        self.min_coef_of_var = None\n",
        "        self.reductions = None\n",
        "\n",
        "    def fit(self, X, Y, min_coef_of_var = 0, pruning_factor = 0):\n",
        "        self.min_coef_of_var = min_coef_of_var\n",
        "        self.root_node = self.build(X, Y)\n",
        "        self.prune_decision_tree(X, Y, self.root_node, pruning_factor)\n",
        "\n",
        "        self.reductions = np.zeros(len(X[0]))\n",
        "        self.reductions = self.calculate_reductions(X, Y, self.root_node, self.reductions)\n",
        "\n",
        "    def get_decision_value_for_feature(self, X, Y, decision_feature):\n",
        "        \n",
        "        Z = np.empty((0, 2), float)\n",
        "        for i in range(len(Y)):\n",
        "            Z = np.append(Z, [[X[i, decision_feature], Y[i]]], axis = 0)\n",
        "\n",
        "        Z = np.sort(Z, axis = 0)\n",
        "\n",
        "        left_cardinality = 0\n",
        "        right_cardinality = 0\n",
        "        left_sum = 0\n",
        "        right_sum = 0\n",
        "        left_sum_of_squares = 0\n",
        "        right_sum_of_squares = 0\n",
        "\n",
        "        for i in range(len(Z)):\n",
        "            right_cardinality += 1\n",
        "            right_sum += Z[i, 1]\n",
        "            right_sum_of_squares += Z[i, 1] ** 2\n",
        "\n",
        "        current_best_impurity = right_sum_of_squares\n",
        "        current_best_decision_value = Z[0, 0] - 1\n",
        "\n",
        "        for i in range(len(Z)):\n",
        "            left_cardinality += 1\n",
        "            left_sum += Z[i, 1]\n",
        "            left_sum_of_squares += Z[i, 1] ** 2\n",
        "\n",
        "            right_cardinality -= 1\n",
        "            right_sum -= Z[i, 1]\n",
        "            right_sum_of_squares -= Z[i, 1] ** 2\n",
        "\n",
        "            impurity = left_sum_of_squares - left_sum * left_sum / left_cardinality\n",
        "            if (right_cardinality != 0):\n",
        "                impurity += right_sum_of_squares - right_sum * right_sum / right_cardinality\n",
        "            \n",
        "            if (impurity < current_best_impurity):\n",
        "                current_best_impurity = impurity\n",
        "                current_best_decision_value = Z[i, 0]\n",
        "\n",
        "        return current_best_decision_value\n",
        "\n",
        "    def get_impurity(self, X, Y, decision_feature, decision_value_for_feature):\n",
        "        left_cardinality = 0\n",
        "        right_cardinality = 0\n",
        "        left_sum = 0\n",
        "        right_sum = 0\n",
        "\n",
        "        for i in range(len(Y)):\n",
        "            if (X[i, decision_feature] <= decision_value_for_feature):\n",
        "                left_cardinality += 1\n",
        "                left_sum += Y[i]\n",
        "            else:\n",
        "                right_cardinality += 1\n",
        "                right_sum += Y[i]\n",
        "\n",
        "        if (left_cardinality != 0):\n",
        "            left_mean = left_sum / left_cardinality\n",
        "        else:\n",
        "            left_mean = 0\n",
        "\n",
        "        if (right_cardinality != 0):\n",
        "            right_mean = right_sum / right_cardinality\n",
        "        else:\n",
        "            right_mean = 0\n",
        "\n",
        "        impurity = 0\n",
        "        for i in range(len(Y)):\n",
        "            if (X[i, decision_feature] <= decision_value_for_feature):\n",
        "                impurity += (Y[i] - left_mean) ** 2\n",
        "            else:\n",
        "                impurity += (Y[i] - right_mean) ** 2\n",
        "\n",
        "        return impurity\n",
        "\n",
        "    def divide_data(self, X, Y, decision_feature, decision_value):\n",
        "        number_of_features = len(X[0])\n",
        "        X_left = np.empty((0, number_of_features), float)\n",
        "        X_right = np.empty((0, number_of_features), float)\n",
        "        Y_left = np.empty(0, float)\n",
        "        Y_right = np.empty(0, float)\n",
        "\n",
        "        for i in range(len(X)):\n",
        "            if (X[i, decision_feature] <= decision_value):\n",
        "                X_left = np.append(X_left, [X[i]], axis = 0)\n",
        "                Y_left = np.append(Y_left, [Y[i]], axis = 0)\n",
        "            else:\n",
        "                X_right = np.append(X_right, [X[i]], axis = 0)\n",
        "                Y_right = np.append(Y_right, [Y[i]], axis = 0)\n",
        "\n",
        "        return X_left, Y_left, X_right, Y_right\n",
        "\n",
        "    def build(self, X, Y):\n",
        "        if (len(X) == 0):\n",
        "            return\n",
        "\n",
        "        root_node = TreeNode()\n",
        "        node_mean = np.mean(Y)\n",
        "        root_node.predicted_value = node_mean\n",
        "        node_deviation = np.std(Y)\n",
        "\n",
        "        # Do not split\n",
        "        if (node_deviation / node_mean < self.min_coef_of_var):\n",
        "            root_node.decision_value = 0\n",
        "            root_node.decision_feature = 0\n",
        "            return\n",
        "\n",
        "        if (np.amin(Y) == np.amax(Y)):\n",
        "            root_node.decision_value = 0\n",
        "            root_node.decision_feature = 0\n",
        "            return root_node\n",
        "\n",
        "        number_of_features = len(X[0])\n",
        "        current_best_feature = -1\n",
        "        current_best_decision_value = -1\n",
        "        current_best_impurity = -1\n",
        "\n",
        "        for i in range(number_of_features):\n",
        "            decision_value_for_feature = self.get_decision_value_for_feature(X, Y, i)\n",
        "            impurity_of_decision_value = self.get_impurity(X, Y, i, decision_value_for_feature)\n",
        "\n",
        "            if (current_best_feature == -1 or impurity_of_decision_value < current_best_impurity):\n",
        "                current_best_feature = i\n",
        "                current_best_decision_value = decision_value_for_feature\n",
        "                current_best_impurity = impurity_of_decision_value\n",
        "\n",
        "        root_node.decision_feature = current_best_feature\n",
        "        root_node.decision_value = current_best_decision_value\n",
        "\n",
        "        X_left, Y_left, X_right, Y_right = self.divide_data(X, Y, root_node.decision_feature, root_node.decision_value)\n",
        "\n",
        "        if (len(Y_left) == 0 or len(Y_right) == 0):\n",
        "            return root_node\n",
        "\n",
        "        root_node.left_node = self.build(X_left, Y_left)\n",
        "        root_node.right_node = self.build(X_right, Y_right)\n",
        "        return root_node\n",
        "\n",
        "    def prune_decision_tree(self, X, Y, root_node, pruning_factor):\n",
        "        if (root_node == None):\n",
        "          return 0\n",
        "\n",
        "        X_left, Y_left, X_right, Y_right = self.divide_data(X, Y, root_node.decision_feature, root_node.decision_value)\n",
        "        left_tree_size = self.prune_decision_tree(X_left, Y_left, root_node.left_node, pruning_factor)\n",
        "        right_tree_size = self.prune_decision_tree(X_right, Y_right, root_node.right_node, pruning_factor)\n",
        "        tree_size = 1 + left_tree_size + right_tree_size\n",
        "\n",
        "        impurity = 0\n",
        "        for y in Y:\n",
        "            impurity += (y - root_node.predicted_value) ** 2\n",
        "\n",
        "        divided_impurity = self.get_impurity(X, Y, root_node.decision_feature, root_node.decision_value)\n",
        "\n",
        "        pruning_value = impurity / len(Y) - divided_impurity / len(Y) - pruning_factor * tree_size\n",
        "\n",
        "        if (pruning_value < 0):\n",
        "            root_node.left_node = None\n",
        "            root_node.right_node = None\n",
        "            return 1\n",
        "        else:\n",
        "            return tree_size\n",
        "    \n",
        "    def calculate_reductions(self, X, Y, root_node, reductions):\n",
        "        if (root_node == None):\n",
        "            return reductions\n",
        "\n",
        "        impurity = 0\n",
        "        for y in Y:\n",
        "            impurity += (y - root_node.predicted_value) ** 2\n",
        "\n",
        "        for i in range(len(X[0])):\n",
        "            decision_value_for_feature = self.get_decision_value_for_feature(X, Y, i)\n",
        "            impurity_of_decision_value = self.get_impurity(X, Y, i, decision_value_for_feature)\n",
        "\n",
        "            reductions[i] += impurity - impurity_of_decision_value\n",
        "        \n",
        "        X_left, Y_left, X_right, Y_right = self.divide_data(X, Y, root_node.decision_feature, root_node.decision_value)\n",
        "        reductions = self.calculate_reductions(X_left, Y_left, root_node.left_node, reductions)\n",
        "        reductions = self.calculate_reductions(X_right, Y_right, root_node.right_node, reductions)\n",
        "\n",
        "        return reductions\n",
        "    \n",
        "    def get_reductions(self):\n",
        "        return self.reductions\n",
        "\n",
        "    def predict_single(self, X):\n",
        "        current_node = self.root_node\n",
        "        while (True):\n",
        "            if (X[current_node.decision_feature] <= current_node.decision_value):\n",
        "                if (current_node.left_node != None):\n",
        "                    current_node = current_node.left_node\n",
        "                else:\n",
        "                    return current_node.predicted_value\n",
        "            else:\n",
        "                if (current_node.right_node != None):\n",
        "                    current_node = current_node.right_node\n",
        "                else:\n",
        "                    return current_node.predicted_value\n",
        "\n",
        "    def predict(self, X):\n",
        "        Y = np.empty(0, float)\n",
        "        for x in X:\n",
        "            Y = np.append(Y, [self.predict_single(x)], axis = 0)\n",
        "\n",
        "        return Y"
      ],
      "execution_count": 1,
      "outputs": []
    },
    {
      "cell_type": "markdown",
      "metadata": {
        "id": "CtYHmbuPpj5i"
      },
      "source": [
        "## AdaBoostRT"
      ]
    },
    {
      "cell_type": "code",
      "metadata": {
        "id": "UFU0FbhFNknu"
      },
      "source": [
        "class AdaBoostRT:\n",
        "\n",
        "    def __init__(self):\n",
        "\n",
        "        self.trees = []\n",
        "        self.beta = []\n",
        "        self.number_of_iterations = None\n",
        "\n",
        "    def fit(self, X, y, threshold_phi = 0.3, number_of_iterations = 20, min_coef_of_var = 0.025, pruning_factor = 0.1):\n",
        "        \n",
        "        self.number_of_iterations = number_of_iterations\n",
        "        N = len(X)\n",
        "        D = [1 / N] * N\n",
        "\n",
        "        for t in range(number_of_iterations):\n",
        "            ids = self.find_ids_from_distribution(D)\n",
        "            X_new, y_new = self.find_new_X_y(X, y, ids)\n",
        "\n",
        "            new_tree = DecisionTree()\n",
        "            new_tree.fit(X_new, y_new, min_coef_of_var, pruning_factor)\n",
        "            y_pred = new_tree.predict(X)\n",
        "            self.trees.append(new_tree)\n",
        "\n",
        "            eps_t = self.cal_error_rate(D, y, y_pred, threshold_phi)\n",
        "            self.beta.append(eps_t / (1 - eps_t))\n",
        "\n",
        "            D = self.improved_distribution(D, y, y_pred, threshold_phi, self.beta[t])\n",
        "\n",
        "    def predict_single(self, X):\n",
        "\n",
        "        weighted_y = 0\n",
        "        total_weight = 0\n",
        "        \n",
        "        for i in range(self.number_of_iterations):\n",
        "            weighted_y += np.log(1 / self.beta[i]) * self.trees[i].predict_single(X)\n",
        "            total_weight += np.log(1 / self.beta[i])\n",
        "        \n",
        "        return weighted_y / total_weight\n",
        "\n",
        "    def predict(self, X):\n",
        "        \n",
        "        y = np.empty(0, float)\n",
        "        for x in X:\n",
        "            y = np.append(y, [self.predict_single(x)], axis = 0)\n",
        "\n",
        "        return y\n",
        "\n",
        "    def improved_distribution(self, D, y, y_pred, threshold_phi, beta):\n",
        "\n",
        "        for i in range(len(D)):\n",
        "            if (abs((y_pred[i] - y[i]) / y[i]) <= threshold_phi):\n",
        "                D[i] *= beta\n",
        "        Z = sum(D)\n",
        "\n",
        "        for i in range(len(D)):\n",
        "            D[i] /= Z\n",
        "        \n",
        "        return D\n",
        "\n",
        "    def cal_error_rate(self, D, y, y_pred, threshold_phi):\n",
        "        \n",
        "        eps_t = 0\n",
        "        for i in range(len(y)):\n",
        "            if (abs((y_pred[i] - y[i]) / y[i]) > threshold_phi):\n",
        "                eps_t += D[i]\n",
        "\n",
        "        return eps_t\n",
        "\n",
        "    def find_new_X_y(self, X, y, ids): # samples new X, y\n",
        "\n",
        "        number_of_features = len(X[0])\n",
        "        X_new = np.empty((0, number_of_features), float)\n",
        "        y_new = np.empty(0, float)\n",
        "\n",
        "        for i in ids:\n",
        "            X_new = np.append(X_new, [X[i]], axis = 0)\n",
        "            y_new = np.append(y_new, [y[i]], axis = 0)\n",
        "\n",
        "        return X_new, y_new\n",
        "\n",
        "    def find_ids_from_distribution(self, D): # genarates N discrete random variable from the given distribution\n",
        "\n",
        "        N = len(D)\n",
        "        cdf = [D[0]]\n",
        "        ids = []\n",
        "\n",
        "        for i in range(N - 1):\n",
        "            cdf.append(cdf[i] + D[i+1])\n",
        "\n",
        "        r = np.random.uniform(0, 1, N)\n",
        "        for i in range(N):\n",
        "            ids.append(self.find_id_from_cdf(r[i], cdf))\n",
        "        \n",
        "        return ids\n",
        "\n",
        "    def find_id_from_cdf(self, r, cdf): # genarates one discrete random variable from the given CDF using binary search\n",
        "\n",
        "        N = len(cdf)\n",
        "\n",
        "        low = 0\n",
        "        high = N - 1\n",
        "\n",
        "        while (low != high):\n",
        "            mid = (low + high + 1) // 2\n",
        "            if (cdf[mid] < r):\n",
        "                low = mid\n",
        "            else:\n",
        "                high = mid - 1\n",
        "        return low"
      ],
      "execution_count": 2,
      "outputs": []
    },
    {
      "cell_type": "markdown",
      "metadata": {
        "id": "3MAKXsDFp1Uz"
      },
      "source": [
        "We start by testing our algorithm on boston housing dataset from sklearn library."
      ]
    },
    {
      "cell_type": "code",
      "metadata": {
        "id": "F6jNPa1xbC3r",
        "colab": {
          "base_uri": "https://localhost:8080/",
          "height": 0
        },
        "outputId": "ac7229a0-31ab-4a53-a161-ce3baeb5de8f"
      },
      "source": [
        "from sklearn.datasets import load_boston\n",
        "data = load_boston(return_X_y=False)\n",
        "X = data.data\n",
        "y = data.target\n",
        "from sklearn.model_selection import train_test_split\n",
        "X_train, X_test, y_train, y_test = train_test_split(X, y, test_size = 0.2, random_state = 1)\n",
        "print(X_train.shape)"
      ],
      "execution_count": 3,
      "outputs": [
        {
          "output_type": "stream",
          "text": [
            "(404, 13)\n"
          ],
          "name": "stdout"
        }
      ]
    },
    {
      "cell_type": "code",
      "metadata": {
        "colab": {
          "base_uri": "https://localhost:8080/",
          "height": 0
        },
        "id": "fD98v_y6KxsE",
        "outputId": "5d58d4bd-35a0-45a8-9077-eb9c8fb096f8"
      },
      "source": [
        "import time\n",
        "start_time = time.time()\n",
        "decision_tree = DecisionTree()\n",
        "decision_tree.fit(X_train, y_train, min_coef_of_var = 0.025, pruning_factor = 0)\n",
        "y_pred = decision_tree.predict(X_test)\n",
        "print('R2 Score: ', metrics.r2_score(y_test, y_pred))\n",
        "print('Time taken to run: ', time.time() - start_time)"
      ],
      "execution_count": 4,
      "outputs": [
        {
          "output_type": "stream",
          "text": [
            "R2 Score:  0.7114290465682265\n",
            "Time taken to run:  1.3140950202941895\n"
          ],
          "name": "stdout"
        }
      ]
    },
    {
      "cell_type": "markdown",
      "metadata": {
        "id": "3k2r_D8_qL1T"
      },
      "source": [
        "We can see that _weak learner_ algorithm (Decision Tree) gives an accuracy of (~71%)."
      ]
    },
    {
      "cell_type": "markdown",
      "metadata": {
        "id": "yFt2KyxIyKQo"
      },
      "source": [
        "We run our algorithm mutiple times with different parameters."
      ]
    },
    {
      "cell_type": "code",
      "metadata": {
        "colab": {
          "base_uri": "https://localhost:8080/",
          "height": 0
        },
        "id": "h0aO9_R_bF0h",
        "outputId": "5241643b-6882-48f6-e548-670f1256e95f"
      },
      "source": [
        "start_time = time.time()\n",
        "adaBoostRT = AdaBoostRT()\n",
        "adaBoostRT.fit(X_train, y_train, threshold_phi = 0.5, number_of_iterations = 20, min_coef_of_var = 0.025, pruning_factor = 0)\n",
        "y_pred = adaBoostRT.predict(X_test)\n",
        "print('R2 Score: ', metrics.r2_score(y_test, y_pred))\n",
        "print('Time taken to run: ', time.time() - start_time)"
      ],
      "execution_count": 5,
      "outputs": [
        {
          "output_type": "stream",
          "text": [
            "R2 Score:  0.8413794046211733\n",
            "Time taken to run:  22.40511441230774\n"
          ],
          "name": "stdout"
        }
      ]
    },
    {
      "cell_type": "code",
      "metadata": {
        "colab": {
          "base_uri": "https://localhost:8080/",
          "height": 0
        },
        "id": "zeFUyOnNx-zB",
        "outputId": "35d1e41a-adb4-4e36-dca0-2a1483aae44c"
      },
      "source": [
        "start_time = time.time()\n",
        "adaBoostRT = AdaBoostRT()\n",
        "adaBoostRT.fit(X_train, y_train, threshold_phi = 0.5, number_of_iterations = 40, min_coef_of_var = 0.025, pruning_factor = 0)\n",
        "y_pred = adaBoostRT.predict(X_test)\n",
        "print('R2 Score: ', metrics.r2_score(y_test, y_pred))\n",
        "print('Time taken to run: ', time.time() - start_time)"
      ],
      "execution_count": 6,
      "outputs": [
        {
          "output_type": "stream",
          "text": [
            "R2 Score:  0.8468563231959942\n",
            "Time taken to run:  42.90940046310425\n"
          ],
          "name": "stdout"
        }
      ]
    },
    {
      "cell_type": "code",
      "metadata": {
        "colab": {
          "base_uri": "https://localhost:8080/",
          "height": 0
        },
        "id": "OFqSrI6_yATU",
        "outputId": "1c68e1b6-63e9-4ca2-c5f6-6732c9999007"
      },
      "source": [
        "start_time = time.time()\n",
        "adaBoostRT = AdaBoostRT()\n",
        "adaBoostRT.fit(X_train, y_train, threshold_phi = 0.3, number_of_iterations = 20, min_coef_of_var = 0.025, pruning_factor = 0)\n",
        "y_pred = adaBoostRT.predict(X_test)\n",
        "print('R2 Score: ', metrics.r2_score(y_test, y_pred))\n",
        "print('Time taken to run: ', time.time() - start_time)"
      ],
      "execution_count": 7,
      "outputs": [
        {
          "output_type": "stream",
          "text": [
            "R2 Score:  0.7596779791791901\n",
            "Time taken to run:  21.60567307472229\n"
          ],
          "name": "stdout"
        }
      ]
    },
    {
      "cell_type": "code",
      "metadata": {
        "colab": {
          "base_uri": "https://localhost:8080/",
          "height": 0
        },
        "id": "8hyCEh5TyDIp",
        "outputId": "7f41f462-f453-47be-bedf-bce57e4c2cad"
      },
      "source": [
        "start_time = time.time()\n",
        "adaBoostRT = AdaBoostRT()\n",
        "adaBoostRT.fit(X_train, y_train, threshold_phi = 0.3, number_of_iterations = 40, min_coef_of_var = 0.025, pruning_factor = 0)\n",
        "y_pred = adaBoostRT.predict(X_test)\n",
        "print('R2 Score: ', metrics.r2_score(y_test, y_pred))\n",
        "print('Time taken to run: ', time.time() - start_time)"
      ],
      "execution_count": 8,
      "outputs": [
        {
          "output_type": "stream",
          "text": [
            "R2 Score:  0.836327016256547\n",
            "Time taken to run:  40.33699655532837\n"
          ],
          "name": "stdout"
        }
      ]
    },
    {
      "cell_type": "markdown",
      "metadata": {
        "id": "vjqUKlXRqdIf"
      },
      "source": [
        "AdaBoost.RT improves the accuract of _weak learner_ from (\\~71%) to \\(~84%), which is a huge improvemnt."
      ]
    },
    {
      "cell_type": "markdown",
      "metadata": {
        "id": "5npaNG14q0Na"
      },
      "source": [
        "A plot of predicted value v/s actual value is present below."
      ]
    },
    {
      "cell_type": "code",
      "metadata": {
        "colab": {
          "base_uri": "https://localhost:8080/",
          "height": 279
        },
        "id": "1rd_xKGGlMoW",
        "outputId": "62d93506-d61d-4836-c919-5e876460fddb"
      },
      "source": [
        "import matplotlib.pyplot as plt\n",
        "plt.plot(y_test, y_test, color = \"green\")\n",
        "plt.xlabel(\"actual\")\n",
        "plt.ylabel(\"predicted\")\n",
        "plt.scatter(y_test, y_pred)\n",
        "plt.show()"
      ],
      "execution_count": 9,
      "outputs": [
        {
          "output_type": "display_data",
          "data": {
            "image/png": "[encoded data removed]",
            "text/plain": [
              "<Figure size 432x288 with 1 Axes>"
            ]
          },
          "metadata": {
            "tags": [],
            "needs_background": "light"
          }
        }
      ]
    },
    {
      "cell_type": "markdown",
      "metadata": {
        "id": "I4n36mxTrBrF"
      },
      "source": [
        "We also test our algorithm on california housing dataset from sklearn library."
      ]
    },
    {
      "cell_type": "code",
      "metadata": {
        "colab": {
          "base_uri": "https://localhost:8080/",
          "height": 0
        },
        "id": "VDsDHAs5GlfU",
        "outputId": "d1f78f43-a82c-40dc-c671-4519acc86407"
      },
      "source": [
        "N = 1000\n",
        "from sklearn.datasets import fetch_california_housing\n",
        "data = fetch_california_housing(return_X_y=False)\n",
        "X = data.data[:N]\n",
        "y = data.target[:N]\n",
        "from sklearn.model_selection import train_test_split\n",
        "X_train, X_test, y_train, y_test = train_test_split(X, y, test_size = 0.2, random_state = 0)\n",
        "print(X_train.shape)"
      ],
      "execution_count": 10,
      "outputs": [
        {
          "output_type": "stream",
          "text": [
            "(800, 8)\n"
          ],
          "name": "stdout"
        }
      ]
    },
    {
      "cell_type": "code",
      "metadata": {
        "colab": {
          "base_uri": "https://localhost:8080/",
          "height": 0
        },
        "id": "QDu4RUIFp5PO",
        "outputId": "afbc67e9-65fd-4536-c9c2-8bdbbfeac41f"
      },
      "source": [
        "start_time = time.time()\n",
        "decision_tree = DecisionTree()\n",
        "decision_tree.fit(X_train, y_train, min_coef_of_var = 0.025, pruning_factor = 0)\n",
        "y_pred = decision_tree.predict(X_test)\n",
        "print('R2 Score: ', metrics.r2_score(y_test, y_pred))\n",
        "print('Time taken to run: ', time.time() - start_time)"
      ],
      "execution_count": 11,
      "outputs": [
        {
          "output_type": "stream",
          "text": [
            "R2 Score:  0.6117023198500051\n",
            "Time taken to run:  1.9802436828613281\n"
          ],
          "name": "stdout"
        }
      ]
    },
    {
      "cell_type": "markdown",
      "metadata": {
        "id": "fx_bR7EorNNy"
      },
      "source": [
        "We can see that _weak learner_ algorithm (Decision Tree) gives an accuracy of (~61%)."
      ]
    },
    {
      "cell_type": "markdown",
      "metadata": {
        "id": "3ACgl3E_xnbK"
      },
      "source": [
        "We run our algorithm mutiple times with different parameters."
      ]
    },
    {
      "cell_type": "code",
      "metadata": {
        "colab": {
          "base_uri": "https://localhost:8080/",
          "height": 0
        },
        "id": "DCMK1_pFxib8",
        "outputId": "b51fecb2-9d06-4099-866a-89514eec93f5"
      },
      "source": [
        "start_time = time.time()\n",
        "adaBoostRT = AdaBoostRT()\n",
        "adaBoostRT.fit(X_train, y_train, threshold_phi = 0.3, number_of_iterations = 80, min_coef_of_var = 0.025, pruning_factor = 0)\n",
        "y_pred = adaBoostRT.predict(X_test)\n",
        "print('R2 Score: ', metrics.r2_score(y_test, y_pred))\n",
        "print('Time taken to run: ', time.time() - start_time)"
      ],
      "execution_count": 12,
      "outputs": [
        {
          "output_type": "stream",
          "text": [
            "R2 Score:  0.694723696773404\n",
            "Time taken to run:  125.77881836891174\n"
          ],
          "name": "stdout"
        }
      ]
    },
    {
      "cell_type": "code",
      "metadata": {
        "id": "M8NNskCUrMbL",
        "colab": {
          "base_uri": "https://localhost:8080/",
          "height": 0
        },
        "outputId": "68dfe633-ccf7-434b-d2ce-055d93f6ff33"
      },
      "source": [
        "start_time = time.time()\n",
        "adaBoostRT = AdaBoostRT()\n",
        "adaBoostRT.fit(X_train, y_train, threshold_phi = 0.3, number_of_iterations = 40, min_coef_of_var = 0.025, pruning_factor = 0)\n",
        "y_pred = adaBoostRT.predict(X_test)\n",
        "print('R2 Score: ', metrics.r2_score(y_test, y_pred))\n",
        "print('Time taken to run: ', time.time() - start_time)"
      ],
      "execution_count": 13,
      "outputs": [
        {
          "output_type": "stream",
          "text": [
            "R2 Score:  0.7120328246199294\n",
            "Time taken to run:  59.74291777610779\n"
          ],
          "name": "stdout"
        }
      ]
    },
    {
      "cell_type": "code",
      "metadata": {
        "colab": {
          "base_uri": "https://localhost:8080/",
          "height": 0
        },
        "id": "ZdO1XyKMxZpZ",
        "outputId": "3db2c4b3-9924-4e12-f1bf-0a0d9e12d486"
      },
      "source": [
        "start_time = time.time()\n",
        "adaBoostRT = AdaBoostRT()\n",
        "adaBoostRT.fit(X_train, y_train, threshold_phi = 0.5, number_of_iterations = 80, min_coef_of_var = 0.025, pruning_factor = 0)\n",
        "y_pred = adaBoostRT.predict(X_test)\n",
        "print('R2 Score: ', metrics.r2_score(y_test, y_pred))\n",
        "print('Time taken to run: ', time.time() - start_time)"
      ],
      "execution_count": 14,
      "outputs": [
        {
          "output_type": "stream",
          "text": [
            "R2 Score:  0.6893012857644062\n",
            "Time taken to run:  110.9093279838562\n"
          ],
          "name": "stdout"
        }
      ]
    },
    {
      "cell_type": "code",
      "metadata": {
        "colab": {
          "base_uri": "https://localhost:8080/",
          "height": 0
        },
        "id": "maBeEhhSyzaI",
        "outputId": "39e956bb-09b9-4499-ad19-69b2a4ea1809"
      },
      "source": [
        "start_time = time.time()\n",
        "adaBoostRT = AdaBoostRT()\n",
        "adaBoostRT.fit(X_train, y_train, threshold_phi = 0.5, number_of_iterations = 40, min_coef_of_var = 0.025, pruning_factor = 0)\n",
        "y_pred = adaBoostRT.predict(X_test)\n",
        "print('R2 Score: ', metrics.r2_score(y_test, y_pred))\n",
        "print('Time taken to run: ', time.time() - start_time)"
      ],
      "execution_count": 15,
      "outputs": [
        {
          "output_type": "stream",
          "text": [
            "R2 Score:  0.6911634507664597\n",
            "Time taken to run:  52.760990381240845\n"
          ],
          "name": "stdout"
        }
      ]
    },
    {
      "cell_type": "markdown",
      "metadata": {
        "id": "pQNM7dIJrzbK"
      },
      "source": [
        "AdaBoost.RT improves the accuract of _weak learner_ from (\\~61%) to \\(~71%), which is a huge improvement."
      ]
    },
    {
      "cell_type": "markdown",
      "metadata": {
        "id": "8QMfwMypr7ri"
      },
      "source": [
        "A plot of predicted value v/s actual value is present below."
      ]
    },
    {
      "cell_type": "code",
      "metadata": {
        "colab": {
          "base_uri": "https://localhost:8080/",
          "height": 279
        },
        "id": "cpX0u7IlK0Yo",
        "outputId": "4fcea16b-f47b-457a-bb90-ea76cfa0a8f3"
      },
      "source": [
        "import matplotlib.pyplot as plt\n",
        "plt.plot(y_test, y_test, color = \"green\")\n",
        "plt.xlabel(\"actual\")\n",
        "plt.ylabel(\"predicted\")\n",
        "plt.scatter(y_test, y_pred)\n",
        "plt.show()"
      ],
      "execution_count": 16,
      "outputs": [
        {
          "output_type": "display_data",
          "data": {
            "image/png": "[encoded data removed]",
            "text/plain": [
              "<Figure size 432x288 with 1 Axes>"
            ]
          },
          "metadata": {
            "tags": [],
            "needs_background": "light"
          }
        }
      ]
    }
  ]
}