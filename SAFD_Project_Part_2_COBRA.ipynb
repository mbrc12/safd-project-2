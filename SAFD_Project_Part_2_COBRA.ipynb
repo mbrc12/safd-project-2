{
  "nbformat": 4,
  "nbformat_minor": 0,
  "metadata": {
    "colab": {
      "name": "SAFD - Project Part 2 - COBRA",
      "provenance": [],
      "collapsed_sections": []
    },
    "kernelspec": {
      "name": "python3",
      "display_name": "Python 3"
    }
  },
  "cells": [
    {
      "cell_type": "markdown",
      "metadata": {
        "id": "jwkzn41VEJnI"
      },
      "source": [
        "# Statistical Analysis Of Financial Data - Project Part 2 - COBRA Ensembles\n",
        "## *Mriganka Basu Roy Chowdhury (Group 3) - 170123038*\n",
        "\n",
        "$\\newcommand{\\R}{\\mathbb{R}}\\newcommand{\\eps}{\\epsilon}\\newcommand{\\a}{\\alpha}\\newcommand{\\test}{\\mathtt{test}}\\newcommand{\\train}{\\mathtt{train}}\\newcommand{\\ind}{\\mathbf{1}}$\n",
        "\n",
        "In this second part of the project, we implement the COBRA Ensembling strategy. The main paper we reference is [1]. The setup is as follows:\n",
        "\n",
        "1. There is a training dataset $(X_i, y_i) \\in \\R^{d + 1}$ of size $N$.  \n",
        "2. We also have $M$ weak learners, $r_1 (\\cdot), r_2 (\\cdot), \\ldots, r_M(\\cdot) : \\R^d \\to \\R$. Our range is $\\R$ since we work on regression.\n",
        "\n",
        "The goal is to \"ensemble\" these learners to form a combined regressor $r^{*}(\\cdot)$ which is hopefully better than all these learners and in some sense, combines the strengths of these estimators. COBRA is one such strategy.\n",
        "\n",
        "COBRA works as follows. We fix two hyperparameters $\\eps > 0, \\a \\in \\{1/M, 2/M, \\ldots, 1\\}$, and perform the following steps:\n",
        "\n",
        "1. Split the dataset into two parts of size $k$ and $\\ell = N - k$ respectively, and call then $\\train$ containing datapoints with indices $1 \\ldots k$, and $\\test$ containing indices $k + 1 \\ldots N$. We renumber these datapoints from $1 \\ldots \\ell$.\n",
        "\n",
        "2. We train the weak learners $r_i$ on the $\\train$ data.\n",
        "\n",
        "3. Now, given any datapoint $X$, we first find the predictions $r_i(X)$ of the weak learners for this datapoint. Then, we report the following quantity as our estimation $r^*(X)$:\n",
        "\n",
        "    $$ r^*(X) = \\dfrac{\\sum_{i = 1}^{\\ell} y_i \\ind_{C(X_i, X) \\geq \\alpha M}}{\\sum_{i = 1}^{\\ell} \\ind_{C(X_i, X) \\geq \\alpha M}} $$\n",
        "\n",
        "    where the concordance \n",
        "    $$ C(X_i, X) = \\sum_{j = 1}^{M} \\ind_{\\left| r_j(X_i) - r_j(X)\\right| < \\eps} $$\n",
        "\n",
        "is the number of estimators which agree with $X$ on the $X_i$ within a margin of $\\eps$. All sums are over the $\\test$ dataset.\n",
        "\n",
        "Thus the main idea of COBRA is to average the true values for those points in $\\test$ on which a large ($\\a$) fraction of the estimators agree to a margin of $\\eps$. As the paper [1] claims, setting $\\alpha = 1$ does not harm asymptotic performance, but the estimation of $\\eps$ is a crucial issue. The paper recommends Grid search and this is the strategy implemented in `pycobra`. We implement a cross validated Grid search for more stability in the estimation.\n",
        "\n",
        "**[1]** [https://www.lpsm.paris/pageperso/biau/BIAU/bfgm.pdf](https://www.lpsm.paris/pageperso/biau/BIAU/bfgm.pdf)\n",
        "\n",
        "\n",
        "In the following sections, we implement COBRA, explaining several implementation details along the way. We start by importing the libraries we need, and load Boston housing data."
      ]
    },
    {
      "cell_type": "code",
      "metadata": {
        "id": "ayGN_XY3D2UG",
        "colab": {
          "base_uri": "https://localhost:8080/"
        },
        "outputId": "54079ac7-0cce-4430-e13d-14412787009e"
      },
      "source": [
        "import math\n",
        "import numpy as np\n",
        "from sklearn.base import BaseEstimator\n",
        "import sklearn.metrics as metrics\n",
        "from sklearn.linear_model import *\n",
        "from sklearn.tree import DecisionTreeRegressor\n",
        "from sklearn.neighbors import KNeighborsRegressor\n",
        "import matplotlib.pyplot as plt\n",
        "from sklearn.model_selection import GridSearchCV, RandomizedSearchCV, KFold\n",
        "from numpy.random import choice, seed\n",
        "from sklearn.ensemble import RandomForestRegressor\n",
        "\n",
        "from sklearn.datasets import load_boston, fetch_california_housing\n",
        "data = load_boston(return_X_y=False)\n",
        "X = data.data\n",
        "y = data.target\n",
        "from sklearn.model_selection import train_test_split\n",
        "X_train, X_test, y_train, y_test = train_test_split(X, y, test_size = 0.2, random_state = 1)\n",
        "print(X_train.shape)"
      ],
      "execution_count": 26,
      "outputs": [
        {
          "output_type": "stream",
          "text": [
            "(404, 13)\n"
          ],
          "name": "stdout"
        }
      ]
    },
    {
      "cell_type": "markdown",
      "metadata": {
        "id": "8tj3NctgT47f"
      },
      "source": [
        "And now we define the COBRA Ensemble class.\n"
      ]
    },
    {
      "cell_type": "code",
      "metadata": {
        "id": "wlHKJnMLT9d8"
      },
      "source": [
        "class COBRA_Ensemble(BaseEstimator):\n",
        "\n",
        "    M = 0\n",
        "    estimators = []  # All the estimators used\n",
        "    epsilon = 0\n",
        "    mean_y = 0\n",
        "    alpha = 1\n",
        "\n",
        "    def __init__(self, epsilon = 0, alpha = 1, estimator_generators = []):\n",
        "        self.estimator_generators = estimator_generators\n",
        "        self.estimators = []\n",
        "        self.epsilon = epsilon\n",
        "        self.alpha = alpha\n",
        "        self.M = len(estimator_generators)\n",
        "\n",
        "    # Currently alpha is not being used in predict\n",
        "    def predict(self, X, epsilon = None, alpha = None, diagnostics = False):\n",
        "\n",
        "        if epsilon is None:\n",
        "            epsilon = self.epsilon\n",
        "        if alpha is None:\n",
        "            alpha = self.alpha\n",
        "\n",
        "        l = np.shape(self.Q)[0]     # Number of test data used for COBRA\n",
        "\n",
        "        M = self.M                  # Number of estimators \n",
        "        N = np.shape(X)[0]          # size of data for which prediction is done\n",
        "        y = np.zeros(N) \n",
        "        R = np.zeros((N, M))        # Predictions of weak learners on X\n",
        "\n",
        "        for i in range(M):\n",
        "            # Compute weak learner's prediction on X\n",
        "            R[:, i] = self.estimators[i].predict(X)\n",
        "        \n",
        "        for i in range(N):\n",
        "            r = R[i, :]\n",
        "            # Number of tests cases which are in epsilon neighbourhood\n",
        "            count = 0\n",
        "\n",
        "            y[i] = 0\n",
        "            for j in range(l):\n",
        "                r_j = self.Q[j, :] # Predictions of weak learners on jth test case\n",
        "\n",
        "                # If alpha-fraction of the differences are below epsilon, include it\n",
        "                if np.sum(np.abs(r_j - r) <= epsilon) >= alpha * M: \n",
        "                    y[i] += self.Y[j]\n",
        "                    count += 1\n",
        "            \n",
        "            # If none are within range, predict the mean\n",
        "            if count == 0:\n",
        "                y[i] = self.mean_y\n",
        "            else: \n",
        "                y[i] /= count\n",
        "\n",
        "        if diagnostics:\n",
        "            return R, y\n",
        "        else:\n",
        "            return y\n",
        "\n",
        "    def fit(self, X, y, train_ratio = 0.4):\n",
        "        N = len(y)\n",
        "        M = self.M\n",
        "        # Number of cases on which weak learners are trained\n",
        "        k = int(N * train_ratio)        # training estimators\n",
        "        l = N - k\n",
        "\n",
        "        self.mean_y = np.mean(y)\n",
        "\n",
        "        X_train = X[:k,:]\n",
        "        X_test = X[k:,:]\n",
        "        y_train = y[:k]\n",
        "        y_test = y[k:]\n",
        "        \n",
        "        # -------------- THIS IS RESAMPLING CODE WHICH IS COMMENTED OUT ------------\n",
        "        # Construct a resampled dataset which optimizer will use to \n",
        "        # optimize epsilon.\n",
        "        # sample = choice(range(N), int(eps_ratio * N), replace = True)\n",
        "        # X_eps = X[sample, :]\n",
        "        # y_eps = y[sample]\n",
        "        # print(y_eps)\n",
        "        # --------------------------------------------------------------------------\n",
        "\n",
        "        Q = np.zeros((l, M))         # Predictions of weak learners on l test cases\n",
        "        self.Y = y_test              # Actual values for those \n",
        "\n",
        "        # Fill Q and Q_eps\n",
        "        for i in range(M):\n",
        "            estimator = estimator_generators[i](X_train, y_train)\n",
        "            self.estimators.append(estimator)\n",
        "            prediction = estimator.predict(X_test)\n",
        "            Q[:, i] = prediction                \n",
        "\n",
        "        self.Q = Q            \n",
        "        \n",
        "    def set_epsilon (self, X_epsilon, y_epsilon, grid_pts = 50, verbose = 0):\n",
        "        M = self.M\n",
        "        self.fit(X_epsilon, y_epsilon)\n",
        "        preds = np.sort(self.Q.flatten())\n",
        "\n",
        "        max_diff = preds[-1] - preds[0]\n",
        "        min_diff = np.min(preds[1:] - preds[:-1])\n",
        "\n",
        "        epsilons = np.linspace(min_diff, max_diff, grid_pts)\n",
        "        alphas = np.linspace(0, 1, M + 1)\n",
        "        params = {'epsilon': epsilons}\n",
        "\n",
        "        gridsearch = RandomizedSearchCV(self, params, \n",
        "                                        scoring = \"neg_mean_squared_error\", \n",
        "                                        n_jobs = -1,\n",
        "                                        verbose = verbose)\n",
        "        gridsearch.fit(X_epsilon, y_epsilon)\n",
        "        \n",
        "        self.epsilon = gridsearch.best_params_[\"epsilon\"]\n",
        "        # self.alpha = gridsearch.best_params_[\"alpha\"] # Commented out since we do not optimize alpha\n",
        "        \n",
        "        if verbose:\n",
        "            print(\"Best epsilon: %.9f\" % self.epsilon)\n",
        "\n",
        "        # print(\"Best alpha: %.9f\" % self.alpha)        # Uncomment when we optimize alpha\n",
        "\n",
        "    def diagnostics (self, X_test, y_test):\n",
        "        R, y = self.predict(X_test, diagnostics = True)\n",
        "\n",
        "        for i in range(self.M):\n",
        "            print(\"Estimator #%d: MSE = %.9f, R2 = %.9f\" \n",
        "                  % (i, \n",
        "                     metrics.mean_squared_error(y_test, R[:, i]),\n",
        "                     metrics.r2_score(y_test, R[:, i])))\n",
        "        print(\"COBRA MSE = %.9f, R2 = %.9f\" % \n",
        "              (metrics.mean_squared_error(y_test, y),\n",
        "               metrics.r2_score(y_test, y)))\n",
        "        return y"
      ],
      "execution_count": 17,
      "outputs": []
    },
    {
      "cell_type": "markdown",
      "metadata": {
        "id": "gJoAaFX7Umy0"
      },
      "source": [
        "Note that we have used Randomized Search with Cross-Validation instead of classical Grid Search. This is a compromise made for speed. Experimentally, we did not feel that that Randomization caused much drop in performance, but the speed improved quite a bit.\n",
        "\n",
        "\n",
        "Next we define the weak learners we use for estimation purposes, and fit a COBRA Ensemble using them.\n"
      ]
    },
    {
      "cell_type": "code",
      "metadata": {
        "colab": {
          "base_uri": "https://localhost:8080/"
        },
        "id": "L5xEs2pfUgrF",
        "outputId": "7179f6e4-15ba-419e-a972-e903bb0354dc"
      },
      "source": [
        "estimator_generators = []\n",
        "\n",
        "seed(0)\n",
        "\n",
        "# For demonstration purposes, we ensemble a Ridge and a Lasso Regressor\n",
        "\n",
        "def generator(X, y):\n",
        "    ridge = RidgeCV()\n",
        "    ridge.fit(X, y)\n",
        "    return ridge\n",
        "estimator_generators.append(generator)\n",
        "\n",
        "\n",
        "def generator(X, y):\n",
        "    lasso = LassoCV()\n",
        "    lasso.fit(X, y)\n",
        "    return lasso\n",
        "estimator_generators.append(generator)\n",
        "\n",
        "\n",
        "\n",
        "\n",
        "cobra = COBRA_Ensemble(estimator_generators = estimator_generators)\n",
        "cobra.set_epsilon(X_train, y_train, verbose = 1)\n",
        "cobra.fit(X_train, y_train)"
      ],
      "execution_count": 5,
      "outputs": [
        {
          "output_type": "stream",
          "text": [
            "Fitting 5 folds for each of 10 candidates, totalling 50 fits\n"
          ],
          "name": "stdout"
        },
        {
          "output_type": "stream",
          "text": [
            "[Parallel(n_jobs=-1)]: Using backend LokyBackend with 2 concurrent workers.\n",
            "[Parallel(n_jobs=-1)]: Done  46 tasks      | elapsed:    9.5s\n"
          ],
          "name": "stderr"
        },
        {
          "output_type": "stream",
          "text": [
            "Best epsilon: 4.589976618\n"
          ],
          "name": "stdout"
        },
        {
          "output_type": "stream",
          "text": [
            "[Parallel(n_jobs=-1)]: Done  50 out of  50 | elapsed:   10.1s finished\n"
          ],
          "name": "stderr"
        }
      ]
    },
    {
      "cell_type": "markdown",
      "metadata": {
        "id": "VAiTbX2PWXyU"
      },
      "source": [
        "Now that we have selected an epsilon, we see how COBRA performs relative to the performance of the weak learners."
      ]
    },
    {
      "cell_type": "code",
      "metadata": {
        "colab": {
          "base_uri": "https://localhost:8080/"
        },
        "id": "ABrAwcqNWOvE",
        "outputId": "9b302027-ad38-4e54-d674-29a27621cd5d"
      },
      "source": [
        " y_pred = cobra.diagnostics(X_test, y_test)"
      ],
      "execution_count": 6,
      "outputs": [
        {
          "output_type": "stream",
          "text": [
            "Estimator #0: MSE = 25.201469420, R2 = 0.744995091\n",
            "Estimator #1: MSE = 31.879621721, R2 = 0.677421190\n",
            "COBRA MSE = 23.193053820, R2 = 0.765317551\n"
          ],
          "name": "stdout"
        }
      ]
    },
    {
      "cell_type": "markdown",
      "metadata": {
        "id": "iUgCAMsVWnTm"
      },
      "source": [
        "As we see, COBRA improves on both of the estimators. We get 76.5% as the resultant accuracy, when the input estimators had 74.5% and 67.8% respectively. \n",
        "\n",
        "Now we plot the output variables to see how much error they have."
      ]
    },
    {
      "cell_type": "code",
      "metadata": {
        "colab": {
          "base_uri": "https://localhost:8080/",
          "height": 279
        },
        "id": "3bDUmOqYWk_N",
        "outputId": "eed54808-4ab9-4447-84b6-ec5565e16e7c"
      },
      "source": [
        "import matplotlib.pyplot as plt\n",
        "plt.plot(y_test, y_test, color = \"green\")\n",
        "plt.xlabel(\"actual\")\n",
        "plt.ylabel(\"predicted\")\n",
        "plt.scatter(y_test, y_pred)\n",
        "plt.show()"
      ],
      "execution_count": 7,
      "outputs": [
        {
          "output_type": "display_data",
          "data": {
            "image/png": "[encoded data removed]",
            "text/plain": [
              "<Figure size 432x288 with 1 Axes>"
            ]
          },
          "metadata": {
            "tags": [],
            "needs_background": "light"
          }
        }
      ]
    },
    {
      "cell_type": "markdown",
      "metadata": {
        "id": "7uEspQMoXM6g"
      },
      "source": [
        "We perform another test using the California Housing dataset. First we load said dataset, and slice it up to convert it to a 5000 sized dataset, since the original dataset is quite large for COBRAs capabilities."
      ]
    },
    {
      "cell_type": "code",
      "metadata": {
        "colab": {
          "base_uri": "https://localhost:8080/"
        },
        "id": "-asSx5BSW9Ha",
        "outputId": "8577a0cb-59cf-4651-86c9-2802ec53d805"
      },
      "source": [
        "N = 1000\n",
        "data = fetch_california_housing(return_X_y=False)\n",
        "X = data.data[:N]\n",
        "y = data.target[:N]\n",
        "from sklearn.model_selection import train_test_split\n",
        "X_train, X_test, y_train, y_test = train_test_split(X, y, test_size = 0.2, random_state = 1)\n",
        "print(X_train.shape)"
      ],
      "execution_count": 20,
      "outputs": [
        {
          "output_type": "stream",
          "text": [
            "(800, 8)\n"
          ],
          "name": "stdout"
        }
      ]
    },
    {
      "cell_type": "markdown",
      "metadata": {
        "id": "SA3bFk2LX1qK"
      },
      "source": [
        "And fit COBRA again. This time we work with a K-Neighbors Regressor and Lasso."
      ]
    },
    {
      "cell_type": "code",
      "metadata": {
        "colab": {
          "base_uri": "https://localhost:8080/"
        },
        "id": "WjRoaBt0Xfxj",
        "outputId": "7e23fab5-6253-43a8-ee3c-b0887b65efbc"
      },
      "source": [
        "estimator_generators = []\n",
        "\n",
        "seed(0)\n",
        "\n",
        "\n",
        "def generator(X, y):\n",
        "    knr = KNeighborsRegressor()\n",
        "    knr.fit(X, y)\n",
        "    return knr\n",
        "estimator_generators.append(generator)\n",
        "\n",
        "\n",
        "def generator(X, y):\n",
        "    lasso = LassoCV()\n",
        "    lasso.fit(X, y)\n",
        "    return lasso\n",
        "estimator_generators.append(generator)\n",
        "\n",
        "cobra = COBRA_Ensemble(estimator_generators = estimator_generators)\n",
        "cobra.set_epsilon(X_train, y_train, verbose = 1)\n",
        "cobra.fit(X_train, y_train)"
      ],
      "execution_count": 31,
      "outputs": [
        {
          "output_type": "stream",
          "text": [
            "Fitting 5 folds for each of 10 candidates, totalling 50 fits\n"
          ],
          "name": "stdout"
        },
        {
          "output_type": "stream",
          "text": [
            "[Parallel(n_jobs=-1)]: Using backend LokyBackend with 2 concurrent workers.\n",
            "[Parallel(n_jobs=-1)]: Done  46 tasks      | elapsed:    8.6s\n"
          ],
          "name": "stderr"
        },
        {
          "output_type": "stream",
          "text": [
            "Best epsilon: 4.233101639\n"
          ],
          "name": "stdout"
        },
        {
          "output_type": "stream",
          "text": [
            "[Parallel(n_jobs=-1)]: Done  50 out of  50 | elapsed:    9.3s finished\n"
          ],
          "name": "stderr"
        }
      ]
    },
    {
      "cell_type": "code",
      "metadata": {
        "colab": {
          "base_uri": "https://localhost:8080/"
        },
        "id": "jfrpJodIX2_X",
        "outputId": "6e1d3778-8534-4e22-ae02-2b74f9cca5a4"
      },
      "source": [
        " y_pred = cobra.diagnostics(X_test, y_test)"
      ],
      "execution_count": 32,
      "outputs": [
        {
          "output_type": "stream",
          "text": [
            "Estimator #0: MSE = 71.758505882, R2 = 0.273900623\n",
            "Estimator #1: MSE = 31.879621721, R2 = 0.677421190\n",
            "COBRA MSE = 26.839087693, R2 = 0.728424601\n"
          ],
          "name": "stdout"
        }
      ]
    },
    {
      "cell_type": "markdown",
      "metadata": {
        "id": "4yVsy7L6e4Ei"
      },
      "source": [
        "Here we see that although one learner is extremely weak (K-Neighbors), the improved performance of the Lasso is being used. Moreover, even the weak performance of the K-Neighbors has been used to improve over Lasso to reach 72.8% as opposed to 67.8 % for Lasso. This shows the effectiveness of the COBRA strategy.\n",
        "\n",
        "As is noted and proved in the paper [1], the most important benefit of COBRA is that it will always try to perform approximately as good as the best learner, **without prior knowledge of which estimator is the best**. This is an extremely useful feature in practice.\n",
        "\n",
        "We finish by plotting the predicted values."
      ]
    },
    {
      "cell_type": "code",
      "metadata": {
        "colab": {
          "base_uri": "https://localhost:8080/",
          "height": 279
        },
        "id": "1A9sFEs_ddPS",
        "outputId": "05924e1f-b5d8-46e9-a91a-658c0d933599"
      },
      "source": [
        "import matplotlib.pyplot as plt\n",
        "plt.plot(y_test, y_test, color = \"green\")\n",
        "plt.xlabel(\"actual\")\n",
        "plt.ylabel(\"predicted\")\n",
        "plt.scatter(y_test, y_pred)\n",
        "plt.show()"
      ],
      "execution_count": 33,
      "outputs": [
        {
          "output_type": "display_data",
          "data": {
            "image/png": "[encoded data removed]",
            "text/plain": [
              "<Figure size 432x288 with 1 Axes>"
            ]
          },
          "metadata": {
            "tags": [],
            "needs_background": "light"
          }
        }
      ]
    }
  ]
}